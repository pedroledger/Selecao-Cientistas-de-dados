{
 "cells": [
  {
   "cell_type": "markdown",
   "metadata": {},
   "source": [
    "# PONTIFÍCIA UNIVERSIDADE CATÓLICA\n",
    "Gabriel Crespi de Santana, RA: 00274413\n",
    "\n",
    "Kevin Egídio de Toledo, RA: 00282590\n",
    "\n",
    "Pedro Lucas Silva Ferreira, RA: 00285608\n",
    "\n",
    "# Projeto Integrado | Ciência de Dados e Inteligência Artificial"
   ]
  },
  {
   "cell_type": "markdown",
   "metadata": {},
   "source": [
    "## 1. Objetivo de Negócio\n",
    "Segundo o site da <a href=https://fia.com.br/blog/profissoes-do-futuro/>Fundação Instituto de Administração</a>, o cargo de Cientista de Dados está em destaque como profissão relevante para o futuro do mercado de trabalho. Há uma grande demanda por esses profissionais, entretanto, em termos relativos, há pouca mão de obra devidamente capacitada para exercer essa função. Assim, o processo de seleção de novos cientistas de dados e afins precisa ser cauteloso e detalhista, o que demanda tempo e dinheiro por parte da empresa contratante. Considerando isto, com o auxílio de classificadores de machine learning e consultas SQL para identificar os candidatos que realmente pretendem trabalhar em uma determinada organização (e não estão apenas buscando por outro emprego), o objetivo de negócio deste projeto é: **minimizar o tempo e custo do processo de seleção e treinamento de cientistas de dados.** "
   ]
  },
  {
   "cell_type": "markdown",
   "metadata": {},
   "source": [
    "## 2. Análise exploratória do dataset\n",
    "O primeiro dataset contém dados sobre candidatos que foram bem sucedidos em cursos promovidos por determinada organização. O intuito é saber (considerando dados demográficos, educacionais e de experiência) quais candidatos realmente querem trabalhar para a empresa e quais estão procurando por outro emprego, bem como quais fatores influenciam nessa escolha.\n",
    "### 2.1. Descrição do dataset\n",
    "- enrollee_id : ID único por candidato\n",
    "\n",
    "- city: código da cidade\n",
    "\n",
    "- city_ development _index: índice de desenvolvimento da cidade\n",
    "\n",
    "- gender: gênero do candidato\n",
    "\n",
    "- relevent_experience: experiência relevante\n",
    "\n",
    "- enrolled_university: Tipo de curso universitário matriculado, se houver\n",
    "\n",
    "- education_level: Nível de escolaridade do candidato\n",
    "\n",
    "- major_discipline: Disciplina principal de educação do candidato\n",
    "\n",
    "- experience: Experiência total do candidato em anos\n",
    "\n",
    "- company_size: Nº de funcionários na empresa do empregador atual\n",
    "\n",
    "- company_type: Tipo de empregador atual\n",
    "\n",
    "- lastnewjob: Diferença em anos entre o emprego anterior e o emprego atual\n",
    "\n",
    "- training_hours: horas de treinamento completadas\n",
    "\n",
    "- target: 0 – Não está procurando por mudança de emprego, 1 – Está procurando por mudança de emprego\n",
    "\n",
    "Disponível em: https://www.kaggle.com/arashnic/hr-analytics-job-change-of-data-scientists?select=sample_submission.csv"
   ]
  },
  {
   "cell_type": "code",
   "execution_count": 1,
   "metadata": {},
   "outputs": [],
   "source": [
    "import pandas as pd \n",
    "import seaborn as sns "
   ]
  },
  {
   "cell_type": "code",
   "execution_count": 2,
   "metadata": {
    "scrolled": true
   },
   "outputs": [
    {
     "data": {
      "text/html": [
       "<div>\n",
       "<style scoped>\n",
       "    .dataframe tbody tr th:only-of-type {\n",
       "        vertical-align: middle;\n",
       "    }\n",
       "\n",
       "    .dataframe tbody tr th {\n",
       "        vertical-align: top;\n",
       "    }\n",
       "\n",
       "    .dataframe thead th {\n",
       "        text-align: right;\n",
       "    }\n",
       "</style>\n",
       "<table border=\"1\" class=\"dataframe\">\n",
       "  <thead>\n",
       "    <tr style=\"text-align: right;\">\n",
       "      <th></th>\n",
       "      <th>enrollee_id</th>\n",
       "      <th>city</th>\n",
       "      <th>city_development_index</th>\n",
       "      <th>gender</th>\n",
       "      <th>relevent_experience</th>\n",
       "      <th>enrolled_university</th>\n",
       "      <th>education_level</th>\n",
       "      <th>major_discipline</th>\n",
       "      <th>experience</th>\n",
       "      <th>company_size</th>\n",
       "      <th>company_type</th>\n",
       "      <th>last_new_job</th>\n",
       "      <th>training_hours</th>\n",
       "      <th>target</th>\n",
       "    </tr>\n",
       "  </thead>\n",
       "  <tbody>\n",
       "    <tr>\n",
       "      <th>0</th>\n",
       "      <td>8949</td>\n",
       "      <td>city_103</td>\n",
       "      <td>0.920</td>\n",
       "      <td>Male</td>\n",
       "      <td>Has relevent experience</td>\n",
       "      <td>no_enrollment</td>\n",
       "      <td>Graduate</td>\n",
       "      <td>STEM</td>\n",
       "      <td>&gt;20</td>\n",
       "      <td>NaN</td>\n",
       "      <td>NaN</td>\n",
       "      <td>1</td>\n",
       "      <td>36</td>\n",
       "      <td>1.0</td>\n",
       "    </tr>\n",
       "    <tr>\n",
       "      <th>1</th>\n",
       "      <td>29725</td>\n",
       "      <td>city_40</td>\n",
       "      <td>0.776</td>\n",
       "      <td>Male</td>\n",
       "      <td>No relevent experience</td>\n",
       "      <td>no_enrollment</td>\n",
       "      <td>Graduate</td>\n",
       "      <td>STEM</td>\n",
       "      <td>15</td>\n",
       "      <td>50-99</td>\n",
       "      <td>Pvt Ltd</td>\n",
       "      <td>&gt;4</td>\n",
       "      <td>47</td>\n",
       "      <td>0.0</td>\n",
       "    </tr>\n",
       "    <tr>\n",
       "      <th>2</th>\n",
       "      <td>11561</td>\n",
       "      <td>city_21</td>\n",
       "      <td>0.624</td>\n",
       "      <td>NaN</td>\n",
       "      <td>No relevent experience</td>\n",
       "      <td>Full time course</td>\n",
       "      <td>Graduate</td>\n",
       "      <td>STEM</td>\n",
       "      <td>5</td>\n",
       "      <td>NaN</td>\n",
       "      <td>NaN</td>\n",
       "      <td>never</td>\n",
       "      <td>83</td>\n",
       "      <td>0.0</td>\n",
       "    </tr>\n",
       "    <tr>\n",
       "      <th>3</th>\n",
       "      <td>33241</td>\n",
       "      <td>city_115</td>\n",
       "      <td>0.789</td>\n",
       "      <td>NaN</td>\n",
       "      <td>No relevent experience</td>\n",
       "      <td>NaN</td>\n",
       "      <td>Graduate</td>\n",
       "      <td>Business Degree</td>\n",
       "      <td>&lt;1</td>\n",
       "      <td>NaN</td>\n",
       "      <td>Pvt Ltd</td>\n",
       "      <td>never</td>\n",
       "      <td>52</td>\n",
       "      <td>1.0</td>\n",
       "    </tr>\n",
       "    <tr>\n",
       "      <th>4</th>\n",
       "      <td>666</td>\n",
       "      <td>city_162</td>\n",
       "      <td>0.767</td>\n",
       "      <td>Male</td>\n",
       "      <td>Has relevent experience</td>\n",
       "      <td>no_enrollment</td>\n",
       "      <td>Masters</td>\n",
       "      <td>STEM</td>\n",
       "      <td>&gt;20</td>\n",
       "      <td>50-99</td>\n",
       "      <td>Funded Startup</td>\n",
       "      <td>4</td>\n",
       "      <td>8</td>\n",
       "      <td>0.0</td>\n",
       "    </tr>\n",
       "  </tbody>\n",
       "</table>\n",
       "</div>"
      ],
      "text/plain": [
       "   enrollee_id      city  city_development_index gender  \\\n",
       "0         8949  city_103                   0.920   Male   \n",
       "1        29725   city_40                   0.776   Male   \n",
       "2        11561   city_21                   0.624    NaN   \n",
       "3        33241  city_115                   0.789    NaN   \n",
       "4          666  city_162                   0.767   Male   \n",
       "\n",
       "       relevent_experience enrolled_university education_level  \\\n",
       "0  Has relevent experience       no_enrollment        Graduate   \n",
       "1   No relevent experience       no_enrollment        Graduate   \n",
       "2   No relevent experience    Full time course        Graduate   \n",
       "3   No relevent experience                 NaN        Graduate   \n",
       "4  Has relevent experience       no_enrollment         Masters   \n",
       "\n",
       "  major_discipline experience company_size    company_type last_new_job  \\\n",
       "0             STEM        >20          NaN             NaN            1   \n",
       "1             STEM         15        50-99         Pvt Ltd           >4   \n",
       "2             STEM          5          NaN             NaN        never   \n",
       "3  Business Degree         <1          NaN         Pvt Ltd        never   \n",
       "4             STEM        >20        50-99  Funded Startup            4   \n",
       "\n",
       "   training_hours  target  \n",
       "0              36     1.0  \n",
       "1              47     0.0  \n",
       "2              83     0.0  \n",
       "3              52     1.0  \n",
       "4               8     0.0  "
      ]
     },
     "execution_count": 2,
     "metadata": {},
     "output_type": "execute_result"
    }
   ],
   "source": [
    "# dataset 1 - candidatos que realmente querem trabalhar na empresa em específico\n",
    "df = pd.read_csv('jobchange.csv', sep=';')\n",
    "df.head()"
   ]
  },
  {
   "cell_type": "code",
   "execution_count": 3,
   "metadata": {},
   "outputs": [
    {
     "data": {
      "text/plain": [
       "<AxesSubplot:xlabel='gender', ylabel='count'>"
      ]
     },
     "execution_count": 3,
     "metadata": {},
     "output_type": "execute_result"
    },
    {
     "data": {
      "image/png": "[encoded data removed]",
      "text/plain": [
       "<Figure size 432x288 with 1 Axes>"
      ]
     },
     "metadata": {
      "needs_background": "light"
     },
     "output_type": "display_data"
    }
   ],
   "source": [
    "# gênero dos candidatos\n",
    "sns.countplot(x=df['gender'].dropna())"
   ]
  },
  {
   "cell_type": "code",
   "execution_count": 4,
   "metadata": {},
   "outputs": [
    {
     "data": {
      "text/plain": [
       "<AxesSubplot:xlabel='relevent_experience', ylabel='count'>"
      ]
     },
     "execution_count": 4,
     "metadata": {},
     "output_type": "execute_result"
    },
    {
     "data": {
      "image/png": "[encoded data removed]",
      "text/plain": [
       "<Figure size 432x288 with 1 Axes>"
      ]
     },
     "metadata": {
      "needs_background": "light"
     },
     "output_type": "display_data"
    }
   ],
   "source": [
    "# experiência relevante dos candidatos\n",
    "sns.countplot(x=df['relevent_experience'])"
   ]
  },
  {
   "cell_type": "code",
   "execution_count": 5,
   "metadata": {},
   "outputs": [
    {
     "data": {
      "text/plain": [
       "<AxesSubplot:xlabel='count', ylabel='experience'>"
      ]
     },
     "execution_count": 5,
     "metadata": {},
     "output_type": "execute_result"
    },
    {
     "data": {
      "image/png": "[encoded data removed]",
      "text/plain": [
       "<Figure size 432x288 with 1 Axes>"
      ]
     },
     "metadata": {
      "needs_background": "light"
     },
     "output_type": "display_data"
    }
   ],
   "source": [
    "# tempo de experiência dos candidatos\n",
    "order = ['<1', '1', '2', '3', '4', '5', '6', '7', '8', '9', '10',\n",
    " '11', '12', '13', '14', '15', '16', '17', '18', '19', '20', '>20']\n",
    "\n",
    "sns.countplot(y=df['experience'].sort_values(), order=order)"
   ]
  },
  {
   "cell_type": "code",
   "execution_count": 6,
   "metadata": {},
   "outputs": [],
   "source": [
    "city = ['enrollee_id', 'city', 'city_development_index']\n",
    "schooling = ['enrollee_id', 'enrolled_university', 'education_level', 'major_discipline']\n",
    "experience = ['enrollee_id', 'experience', 'company_size', 'company_type', 'last_new_job', 'training_hours']"
   ]
  },
  {
   "cell_type": "code",
   "execution_count": 7,
   "metadata": {},
   "outputs": [
    {
     "data": {
      "text/html": [
       "<div>\n",
       "<style scoped>\n",
       "    .dataframe tbody tr th:only-of-type {\n",
       "        vertical-align: middle;\n",
       "    }\n",
       "\n",
       "    .dataframe tbody tr th {\n",
       "        vertical-align: top;\n",
       "    }\n",
       "\n",
       "    .dataframe thead th {\n",
       "        text-align: right;\n",
       "    }\n",
       "</style>\n",
       "<table border=\"1\" class=\"dataframe\">\n",
       "  <thead>\n",
       "    <tr style=\"text-align: right;\">\n",
       "      <th></th>\n",
       "      <th>enrollee_id</th>\n",
       "      <th>city</th>\n",
       "      <th>city_development_index</th>\n",
       "    </tr>\n",
       "  </thead>\n",
       "  <tbody>\n",
       "    <tr>\n",
       "      <th>0</th>\n",
       "      <td>8949</td>\n",
       "      <td>city_103</td>\n",
       "      <td>0.920</td>\n",
       "    </tr>\n",
       "    <tr>\n",
       "      <th>1</th>\n",
       "      <td>29725</td>\n",
       "      <td>city_40</td>\n",
       "      <td>0.776</td>\n",
       "    </tr>\n",
       "    <tr>\n",
       "      <th>2</th>\n",
       "      <td>11561</td>\n",
       "      <td>city_21</td>\n",
       "      <td>0.624</td>\n",
       "    </tr>\n",
       "    <tr>\n",
       "      <th>3</th>\n",
       "      <td>33241</td>\n",
       "      <td>city_115</td>\n",
       "      <td>0.789</td>\n",
       "    </tr>\n",
       "    <tr>\n",
       "      <th>4</th>\n",
       "      <td>666</td>\n",
       "      <td>city_162</td>\n",
       "      <td>0.767</td>\n",
       "    </tr>\n",
       "  </tbody>\n",
       "</table>\n",
       "</div>"
      ],
      "text/plain": [
       "   enrollee_id      city  city_development_index\n",
       "0         8949  city_103                   0.920\n",
       "1        29725   city_40                   0.776\n",
       "2        11561   city_21                   0.624\n",
       "3        33241  city_115                   0.789\n",
       "4          666  city_162                   0.767"
      ]
     },
     "execution_count": 7,
     "metadata": {},
     "output_type": "execute_result"
    }
   ],
   "source": [
    "# df específico da cidade\n",
    "df_city = df.filter(items=city)\n",
    "df_city.head()"
   ]
  },
  {
   "cell_type": "code",
   "execution_count": 8,
   "metadata": {},
   "outputs": [],
   "source": [
    "# df específico da escolaridade\n",
    "df_schooling = df.filter(items=schooling)\n",
    "# df_schooling.head()"
   ]
  },
  {
   "cell_type": "code",
   "execution_count": 9,
   "metadata": {},
   "outputs": [],
   "source": [
    "educationXdiscipline = df_schooling.groupby(['education_level', 'major_discipline']).count()"
   ]
  },
  {
   "cell_type": "code",
   "execution_count": 10,
   "metadata": {},
   "outputs": [
    {
     "data": {
      "text/html": [
       "<div>\n",
       "<style scoped>\n",
       "    .dataframe tbody tr th:only-of-type {\n",
       "        vertical-align: middle;\n",
       "    }\n",
       "\n",
       "    .dataframe tbody tr th {\n",
       "        vertical-align: top;\n",
       "    }\n",
       "\n",
       "    .dataframe thead th {\n",
       "        text-align: right;\n",
       "    }\n",
       "</style>\n",
       "<table border=\"1\" class=\"dataframe\">\n",
       "  <thead>\n",
       "    <tr style=\"text-align: right;\">\n",
       "      <th>major_discipline</th>\n",
       "      <th>Arts</th>\n",
       "      <th>Business Degree</th>\n",
       "      <th>Humanities</th>\n",
       "      <th>No Major</th>\n",
       "      <th>Other</th>\n",
       "      <th>STEM</th>\n",
       "    </tr>\n",
       "    <tr>\n",
       "      <th>education_level</th>\n",
       "      <th></th>\n",
       "      <th></th>\n",
       "      <th></th>\n",
       "      <th></th>\n",
       "      <th></th>\n",
       "      <th></th>\n",
       "    </tr>\n",
       "  </thead>\n",
       "  <tbody>\n",
       "    <tr>\n",
       "      <th>Graduate</th>\n",
       "      <td>208.0</td>\n",
       "      <td>238.0</td>\n",
       "      <td>420.0</td>\n",
       "      <td>194.0</td>\n",
       "      <td>272.0</td>\n",
       "      <td>10244.0</td>\n",
       "    </tr>\n",
       "    <tr>\n",
       "      <th>Masters</th>\n",
       "      <td>42.0</td>\n",
       "      <td>86.0</td>\n",
       "      <td>225.0</td>\n",
       "      <td>29.0</td>\n",
       "      <td>100.0</td>\n",
       "      <td>3873.0</td>\n",
       "    </tr>\n",
       "    <tr>\n",
       "      <th>Phd</th>\n",
       "      <td>3.0</td>\n",
       "      <td>3.0</td>\n",
       "      <td>24.0</td>\n",
       "      <td>0.0</td>\n",
       "      <td>9.0</td>\n",
       "      <td>375.0</td>\n",
       "    </tr>\n",
       "  </tbody>\n",
       "</table>\n",
       "</div>"
      ],
      "text/plain": [
       "major_discipline   Arts  Business Degree  Humanities  No Major  Other     STEM\n",
       "education_level                                                               \n",
       "Graduate          208.0            238.0       420.0     194.0  272.0  10244.0\n",
       "Masters            42.0             86.0       225.0      29.0  100.0   3873.0\n",
       "Phd                 3.0              3.0        24.0       0.0    9.0    375.0"
      ]
     },
     "execution_count": 10,
     "metadata": {},
     "output_type": "execute_result"
    }
   ],
   "source": [
    "# grau de escolaridade x disciplina principal\n",
    "educationXdiscipline = educationXdiscipline['enrollee_id'].unstack().fillna(0)\n",
    "educationXdiscipline"
   ]
  },
  {
   "cell_type": "markdown",
   "metadata": {},
   "source": [
    "<img src=\"graduacao.png\" />"
   ]
  },
  {
   "cell_type": "code",
   "execution_count": 11,
   "metadata": {},
   "outputs": [],
   "source": [
    "# df específico da experiência do candidato\n",
    "df_experience = df.filter(items=experience)\n",
    "# df_experience.head()"
   ]
  },
  {
   "cell_type": "markdown",
   "metadata": {},
   "source": [
    "### 2.2. Transformando os dados para tipo numérico"
   ]
  },
  {
   "cell_type": "code",
   "execution_count": 12,
   "metadata": {},
   "outputs": [],
   "source": [
    "from sklearn.preprocessing import LabelEncoder\n",
    "le = LabelEncoder()"
   ]
  },
  {
   "cell_type": "code",
   "execution_count": 13,
   "metadata": {
    "scrolled": true
   },
   "outputs": [
    {
     "data": {
      "text/html": [
       "<div>\n",
       "<style scoped>\n",
       "    .dataframe tbody tr th:only-of-type {\n",
       "        vertical-align: middle;\n",
       "    }\n",
       "\n",
       "    .dataframe tbody tr th {\n",
       "        vertical-align: top;\n",
       "    }\n",
       "\n",
       "    .dataframe thead th {\n",
       "        text-align: right;\n",
       "    }\n",
       "</style>\n",
       "<table border=\"1\" class=\"dataframe\">\n",
       "  <thead>\n",
       "    <tr style=\"text-align: right;\">\n",
       "      <th></th>\n",
       "      <th>enrollee_id</th>\n",
       "      <th>city</th>\n",
       "      <th>city_development_index</th>\n",
       "      <th>gender</th>\n",
       "      <th>relevent_experience</th>\n",
       "      <th>enrolled_university</th>\n",
       "      <th>education_level</th>\n",
       "      <th>major_discipline</th>\n",
       "      <th>experience</th>\n",
       "      <th>company_size</th>\n",
       "      <th>company_type</th>\n",
       "      <th>last_new_job</th>\n",
       "      <th>training_hours</th>\n",
       "      <th>target</th>\n",
       "    </tr>\n",
       "  </thead>\n",
       "  <tbody>\n",
       "    <tr>\n",
       "      <th>0</th>\n",
       "      <td>5018</td>\n",
       "      <td>5</td>\n",
       "      <td>85</td>\n",
       "      <td>1</td>\n",
       "      <td>0</td>\n",
       "      <td>2</td>\n",
       "      <td>0</td>\n",
       "      <td>5</td>\n",
       "      <td>21</td>\n",
       "      <td>8</td>\n",
       "      <td>6</td>\n",
       "      <td>0</td>\n",
       "      <td>35</td>\n",
       "      <td>1</td>\n",
       "    </tr>\n",
       "    <tr>\n",
       "      <th>1</th>\n",
       "      <td>16986</td>\n",
       "      <td>77</td>\n",
       "      <td>48</td>\n",
       "      <td>1</td>\n",
       "      <td>1</td>\n",
       "      <td>2</td>\n",
       "      <td>0</td>\n",
       "      <td>5</td>\n",
       "      <td>6</td>\n",
       "      <td>3</td>\n",
       "      <td>5</td>\n",
       "      <td>4</td>\n",
       "      <td>46</td>\n",
       "      <td>0</td>\n",
       "    </tr>\n",
       "    <tr>\n",
       "      <th>2</th>\n",
       "      <td>6499</td>\n",
       "      <td>64</td>\n",
       "      <td>14</td>\n",
       "      <td>3</td>\n",
       "      <td>1</td>\n",
       "      <td>0</td>\n",
       "      <td>0</td>\n",
       "      <td>5</td>\n",
       "      <td>15</td>\n",
       "      <td>8</td>\n",
       "      <td>6</td>\n",
       "      <td>5</td>\n",
       "      <td>82</td>\n",
       "      <td>0</td>\n",
       "    </tr>\n",
       "    <tr>\n",
       "      <th>3</th>\n",
       "      <td>19067</td>\n",
       "      <td>14</td>\n",
       "      <td>52</td>\n",
       "      <td>3</td>\n",
       "      <td>1</td>\n",
       "      <td>3</td>\n",
       "      <td>0</td>\n",
       "      <td>1</td>\n",
       "      <td>20</td>\n",
       "      <td>8</td>\n",
       "      <td>5</td>\n",
       "      <td>5</td>\n",
       "      <td>51</td>\n",
       "      <td>1</td>\n",
       "    </tr>\n",
       "    <tr>\n",
       "      <th>4</th>\n",
       "      <td>358</td>\n",
       "      <td>50</td>\n",
       "      <td>45</td>\n",
       "      <td>1</td>\n",
       "      <td>0</td>\n",
       "      <td>2</td>\n",
       "      <td>2</td>\n",
       "      <td>5</td>\n",
       "      <td>21</td>\n",
       "      <td>3</td>\n",
       "      <td>1</td>\n",
       "      <td>3</td>\n",
       "      <td>7</td>\n",
       "      <td>0</td>\n",
       "    </tr>\n",
       "  </tbody>\n",
       "</table>\n",
       "</div>"
      ],
      "text/plain": [
       "   enrollee_id  city  city_development_index  gender  relevent_experience  \\\n",
       "0         5018     5                      85       1                    0   \n",
       "1        16986    77                      48       1                    1   \n",
       "2         6499    64                      14       3                    1   \n",
       "3        19067    14                      52       3                    1   \n",
       "4          358    50                      45       1                    0   \n",
       "\n",
       "   enrolled_university  education_level  major_discipline  experience  \\\n",
       "0                    2                0                 5          21   \n",
       "1                    2                0                 5           6   \n",
       "2                    0                0                 5          15   \n",
       "3                    3                0                 1          20   \n",
       "4                    2                2                 5          21   \n",
       "\n",
       "   company_size  company_type  last_new_job  training_hours  target  \n",
       "0             8             6             0              35       1  \n",
       "1             3             5             4              46       0  \n",
       "2             8             6             5              82       0  \n",
       "3             8             5             5              51       1  \n",
       "4             3             1             3               7       0  "
      ]
     },
     "execution_count": 13,
     "metadata": {},
     "output_type": "execute_result"
    }
   ],
   "source": [
    "df_encoded = df.copy()\n",
    "\n",
    "for column in df_encoded.columns:\n",
    "    df_encoded[column] = le.fit_transform(df_encoded[column])\n",
    "    \n",
    "df_encoded.head()"
   ]
  },
  {
   "cell_type": "code",
   "execution_count": 14,
   "metadata": {},
   "outputs": [],
   "source": [
    "# atributos que serão considerados nas classificações\n",
    "# o gênero do candidato não será considerado\n",
    "\n",
    "features = ['city', 'city_development_index',\n",
    "       'relevent_experience', 'enrolled_university', 'education_level',\n",
    "       'major_discipline', 'experience', 'company_size', 'company_type',\n",
    "       'last_new_job', 'training_hours']"
   ]
  },
  {
   "cell_type": "code",
   "execution_count": 15,
   "metadata": {},
   "outputs": [],
   "source": [
    "# atributos\n",
    "data_encoded = df_encoded[features].values\n",
    "\n",
    "# target (classes: 1 - realmente deseja trabalhar na empresa, 2 - apenas procurando por um novo emprego)\n",
    "target_encoded = df_encoded['target']"
   ]
  },
  {
   "cell_type": "code",
   "execution_count": 16,
   "metadata": {},
   "outputs": [
    {
     "name": "stdout",
     "output_type": "stream",
     "text": [
      "[[  5  85   0 ...   6   0  35]\n",
      " [ 77  48   1 ...   5   4  46]\n",
      " [ 64  14   1 ...   6   5  82]\n",
      " ...\n",
      " [  5  85   0 ...   5   3  43]\n",
      " [ 94  56   0 ...   5   1  95]\n",
      " [ 95  67   1 ...   6   0 124]]\n",
      "0        1\n",
      "1        0\n",
      "2        0\n",
      "3        1\n",
      "4        0\n",
      "        ..\n",
      "19153    1\n",
      "19154    1\n",
      "19155    0\n",
      "19156    0\n",
      "19157    0\n",
      "Name: target, Length: 19158, dtype: int64\n"
     ]
    }
   ],
   "source": [
    "print(data_encoded)\n",
    "print(target_encoded)"
   ]
  },
  {
   "cell_type": "markdown",
   "metadata": {},
   "source": [
    "### 2.3. Padronizando os dados "
   ]
  },
  {
   "cell_type": "code",
   "execution_count": 17,
   "metadata": {},
   "outputs": [],
   "source": [
    "from sklearn.preprocessing import StandardScaler\n",
    "scaler = StandardScaler() # padronizador\n",
    "data_std = scaler.fit_transform(data_encoded)\n",
    "target_std = scaler.fit_transform([target_encoded])"
   ]
  },
  {
   "cell_type": "markdown",
   "metadata": {},
   "source": [
    "## 3. Classificadores"
   ]
  },
  {
   "cell_type": "code",
   "execution_count": 18,
   "metadata": {},
   "outputs": [],
   "source": [
    "# divisor de dados em treino e teste\n",
    "from sklearn.model_selection import train_test_split"
   ]
  },
  {
   "cell_type": "code",
   "execution_count": 19,
   "metadata": {},
   "outputs": [],
   "source": [
    "X_train, X_test, y_train, y_test = train_test_split(data_encoded, target_encoded, test_size=0.3, random_state=18)"
   ]
  },
  {
   "cell_type": "markdown",
   "metadata": {},
   "source": [
    "### 3.1. Classificador KNN\n",
    "No caso de querer saber se um candidato específico realmente deseja trabalhar na determinada empresa, baseado em seus atributos, podemos usar o algoritmo KNN para prever o resultado:"
   ]
  },
  {
   "cell_type": "code",
   "execution_count": 20,
   "metadata": {},
   "outputs": [],
   "source": [
    "from sklearn.neighbors import NearestNeighbors\n",
    "from sklearn.neighbors import KNeighborsClassifier\n",
    "from sklearn.pipeline import Pipeline\n",
    "from sklearn.model_selection import GridSearchCV"
   ]
  },
  {
   "cell_type": "code",
   "execution_count": 21,
   "metadata": {},
   "outputs": [
    {
     "data": {
      "text/plain": [
       "GridSearchCV(cv=6,\n",
       "             estimator=Pipeline(steps=[('scaler', StandardScaler()),\n",
       "                                       ('knn',\n",
       "                                        KNeighborsClassifier(n_jobs=-1))]),\n",
       "             param_grid=[{'knn__n_neighbors': [1, 2, 3, 4, 5, 6, 7, 8, 9, 10,\n",
       "                                               11, 12, 13, 14, 15, 16, 17, 18,\n",
       "                                               19, 20, 21, 22, 23, 24, 25, 26,\n",
       "                                               27, 28, 29, 30, ...]}])"
      ]
     },
     "execution_count": 21,
     "metadata": {},
     "output_type": "execute_result"
    }
   ],
   "source": [
    "# classificador knn\n",
    "knn = KNeighborsClassifier(n_neighbors=5, n_jobs=-1)\n",
    "\n",
    "pipe = Pipeline([(\"scaler\", scaler), (\"knn\", knn)])\n",
    "espaço_busca = [{\"knn__n_neighbors\": [n for n in range(1,50)]}]\n",
    "grid = GridSearchCV(pipe, espaço_busca, cv=6, verbose=0).fit(X_train, y_train)\n",
    "grid"
   ]
  },
  {
   "cell_type": "code",
   "execution_count": 22,
   "metadata": {},
   "outputs": [
    {
     "data": {
      "text/plain": [
       "39"
      ]
     },
     "execution_count": 22,
     "metadata": {},
     "output_type": "execute_result"
    }
   ],
   "source": [
    "# número ideal de vizinhos\n",
    "k_ideal = grid.best_estimator_.get_params()[\"knn__n_neighbors\"]\n",
    "k_ideal"
   ]
  },
  {
   "cell_type": "code",
   "execution_count": 23,
   "metadata": {},
   "outputs": [
    {
     "data": {
      "text/plain": [
       "array([0, 1, 0, ..., 0, 0, 0], dtype=int64)"
      ]
     },
     "execution_count": 23,
     "metadata": {},
     "output_type": "execute_result"
    }
   ],
   "source": [
    "# predizendo as observações\n",
    "classifier = KNeighborsClassifier(n_neighbors=k_ideal, metric=\"euclidean\")\n",
    "classifier.fit(X_test, y_test)\n",
    "y_pred = classifier.predict(X_test)\n",
    "y_pred"
   ]
  },
  {
   "cell_type": "markdown",
   "metadata": {},
   "source": [
    "#### 3.1.1. Métricas de avaliação KNN"
   ]
  },
  {
   "cell_type": "code",
   "execution_count": 24,
   "metadata": {},
   "outputs": [],
   "source": [
    "from sklearn.metrics import accuracy_score\n",
    "from sklearn.metrics import f1_score\n",
    "from sklearn.metrics import precision_score\n",
    "from sklearn.metrics import recall_score\n",
    "from sklearn.metrics import confusion_matrix"
   ]
  },
  {
   "cell_type": "code",
   "execution_count": 25,
   "metadata": {},
   "outputs": [
    {
     "name": "stdout",
     "output_type": "stream",
     "text": [
      "Confusion Matrix\n",
      " [[3986  358]\n",
      " [ 889  515]]\n"
     ]
    }
   ],
   "source": [
    "cm = confusion_matrix(y_test, y_pred)\n",
    "print(\"Confusion Matrix\\n\",cm)"
   ]
  },
  {
   "cell_type": "code",
   "execution_count": 26,
   "metadata": {},
   "outputs": [
    {
     "name": "stdout",
     "output_type": "stream",
     "text": [
      "F1 score: 0.7830549756437022\n"
     ]
    }
   ],
   "source": [
    "print(\"F1 score:\", f1_score(y_test, y_pred, average='micro'))"
   ]
  },
  {
   "cell_type": "code",
   "execution_count": 27,
   "metadata": {},
   "outputs": [
    {
     "name": "stdout",
     "output_type": "stream",
     "text": [
      "Precision score: 0.7830549756437022\n"
     ]
    }
   ],
   "source": [
    "print(\"Precision score:\", precision_score(y_test, y_pred, average='micro'))"
   ]
  },
  {
   "cell_type": "code",
   "execution_count": 28,
   "metadata": {},
   "outputs": [
    {
     "name": "stdout",
     "output_type": "stream",
     "text": [
      "Accuracy score: 0.7830549756437022\n"
     ]
    }
   ],
   "source": [
    "print(\"Accuracy score:\", accuracy_score(y_test, y_pred))"
   ]
  },
  {
   "cell_type": "code",
   "execution_count": 29,
   "metadata": {},
   "outputs": [
    {
     "name": "stdout",
     "output_type": "stream",
     "text": [
      "Recall score: 0.3668091168091168\n"
     ]
    }
   ],
   "source": [
    "print(\"Recall score:\", recall_score(y_test, y_pred))"
   ]
  },
  {
   "cell_type": "code",
   "execution_count": 30,
   "metadata": {},
   "outputs": [
    {
     "data": {
      "text/plain": [
       "0.7830549756437022"
      ]
     },
     "execution_count": 30,
     "metadata": {},
     "output_type": "execute_result"
    }
   ],
   "source": [
    "# Score geral do modelo\n",
    "classifier.score(X_test, y_test)"
   ]
  },
  {
   "cell_type": "markdown",
   "metadata": {},
   "source": [
    "#### 3.1.2. Persistindo o modelo"
   ]
  },
  {
   "cell_type": "code",
   "execution_count": 31,
   "metadata": {},
   "outputs": [],
   "source": [
    "import joblib"
   ]
  },
  {
   "cell_type": "code",
   "execution_count": 32,
   "metadata": {},
   "outputs": [],
   "source": [
    "with open('modelo_KNN', 'wb') as f: \n",
    "    joblib.dump(classifier, f)\n",
    "with open('modelo_KNN', 'rb') as f:  \n",
    "    modelo_knn = joblib.load(f)"
   ]
  },
  {
   "cell_type": "code",
   "execution_count": 33,
   "metadata": {},
   "outputs": [
    {
     "data": {
      "text/plain": [
       "array([0, 1, 0, ..., 0, 0, 0], dtype=int64)"
      ]
     },
     "execution_count": 33,
     "metadata": {},
     "output_type": "execute_result"
    }
   ],
   "source": [
    "modelo_knn.predict(X_test)"
   ]
  },
  {
   "cell_type": "markdown",
   "metadata": {},
   "source": [
    "### 3.2. Classificador de Regressão Linear\n",
    "O classificador de regressão linear será aplicado no segundo dataset escolhido, que contém dados relevantes sobre profissionais da área de tecnologia da informação. Por exemplo:\n",
    "\n",
    "- programação como hobby\n",
    "- período de emprego\n",
    "- satisfação com o trabalho\n",
    "- área de estudo\n",
    "- anos de experiência com código\n",
    "- cargo (Cientista de dados / Especialista em ML / DBA / Analista de dados / Engenheiro de software)\n",
    "\n",
    "Disponível em: https://www.kaggle.com/phuchuynguyen/datarelated-developers-survey-by-stack-overflow?select=survey_final.csv"
   ]
  },
  {
   "cell_type": "code",
   "execution_count": 34,
   "metadata": {},
   "outputs": [],
   "source": [
    "from sklearn.linear_model import LinearRegression"
   ]
  },
  {
   "cell_type": "code",
   "execution_count": 35,
   "metadata": {},
   "outputs": [],
   "source": [
    "import pandas as pd\n",
    "df2 = pd.read_csv('processed_data_toDummies.csv')"
   ]
  },
  {
   "cell_type": "code",
   "execution_count": 36,
   "metadata": {},
   "outputs": [],
   "source": [
    "# renomeando algumas colunas para fins de praticidade\n",
    "df2.rename(columns={'Data scientist or machine learning specialist': 'DS_or_MLS', \n",
    "                    'Database administrator':'DBA', \n",
    "                    'Data or business analyst': 'DA_or_BA',\n",
    "                    'Engineer, data': 'SE'}, inplace=True)\n"
   ]
  },
  {
   "cell_type": "code",
   "execution_count": 37,
   "metadata": {},
   "outputs": [
    {
     "data": {
      "text/html": [
       "<div>\n",
       "<style scoped>\n",
       "    .dataframe tbody tr th:only-of-type {\n",
       "        vertical-align: middle;\n",
       "    }\n",
       "\n",
       "    .dataframe tbody tr th {\n",
       "        vertical-align: top;\n",
       "    }\n",
       "\n",
       "    .dataframe thead th {\n",
       "        text-align: right;\n",
       "    }\n",
       "</style>\n",
       "<table border=\"1\" class=\"dataframe\">\n",
       "  <thead>\n",
       "    <tr style=\"text-align: right;\">\n",
       "      <th></th>\n",
       "      <th>ID</th>\n",
       "      <th>Year</th>\n",
       "      <th>Hobbyist</th>\n",
       "      <th>ConvertedComp</th>\n",
       "      <th>Country</th>\n",
       "      <th>EdLevel</th>\n",
       "      <th>Employment</th>\n",
       "      <th>JobSat</th>\n",
       "      <th>OrgSize</th>\n",
       "      <th>UndergradMajor</th>\n",
       "      <th>YearsCodePro</th>\n",
       "      <th>DS_or_MLS</th>\n",
       "      <th>DBA</th>\n",
       "      <th>DA_or_BA</th>\n",
       "      <th>SE</th>\n",
       "    </tr>\n",
       "  </thead>\n",
       "  <tbody>\n",
       "    <tr>\n",
       "      <th>0</th>\n",
       "      <td>0</td>\n",
       "      <td>2017</td>\n",
       "      <td>Yes, both</td>\n",
       "      <td>43750.00000</td>\n",
       "      <td>United Kingdom</td>\n",
       "      <td>Bachelor's degree</td>\n",
       "      <td>Employed full-time</td>\n",
       "      <td>4.0</td>\n",
       "      <td>2 to 9 employees</td>\n",
       "      <td>Computer science</td>\n",
       "      <td>2.0</td>\n",
       "      <td>1</td>\n",
       "      <td>1</td>\n",
       "      <td>NaN</td>\n",
       "      <td>NaN</td>\n",
       "    </tr>\n",
       "    <tr>\n",
       "      <th>1</th>\n",
       "      <td>1</td>\n",
       "      <td>2017</td>\n",
       "      <td>Yes, I program as a hobby</td>\n",
       "      <td>51282.05128</td>\n",
       "      <td>Denmark</td>\n",
       "      <td>Some college/university study without earning ...</td>\n",
       "      <td>Employed part-time</td>\n",
       "      <td>10.0</td>\n",
       "      <td>100 to 499 employees</td>\n",
       "      <td>Computer science</td>\n",
       "      <td>3.0</td>\n",
       "      <td>1</td>\n",
       "      <td>0</td>\n",
       "      <td>NaN</td>\n",
       "      <td>NaN</td>\n",
       "    </tr>\n",
       "    <tr>\n",
       "      <th>2</th>\n",
       "      <td>2</td>\n",
       "      <td>2017</td>\n",
       "      <td>No</td>\n",
       "      <td>25000.00000</td>\n",
       "      <td>Israel</td>\n",
       "      <td>Some college/university study without earning ...</td>\n",
       "      <td>Employed full-time</td>\n",
       "      <td>6.0</td>\n",
       "      <td>5,000 to 9,999 employees</td>\n",
       "      <td>Computer science</td>\n",
       "      <td>4.0</td>\n",
       "      <td>1</td>\n",
       "      <td>0</td>\n",
       "      <td>NaN</td>\n",
       "      <td>NaN</td>\n",
       "    </tr>\n",
       "    <tr>\n",
       "      <th>3</th>\n",
       "      <td>3</td>\n",
       "      <td>2017</td>\n",
       "      <td>Yes, I program as a hobby</td>\n",
       "      <td>100000.00000</td>\n",
       "      <td>United States</td>\n",
       "      <td>Some college/university study without earning ...</td>\n",
       "      <td>Employed full-time</td>\n",
       "      <td>5.0</td>\n",
       "      <td>20 to 99 employees</td>\n",
       "      <td>Computer science</td>\n",
       "      <td>15.0</td>\n",
       "      <td>0</td>\n",
       "      <td>1</td>\n",
       "      <td>NaN</td>\n",
       "      <td>NaN</td>\n",
       "    </tr>\n",
       "    <tr>\n",
       "      <th>4</th>\n",
       "      <td>4</td>\n",
       "      <td>2017</td>\n",
       "      <td>Yes, both</td>\n",
       "      <td>27000.00000</td>\n",
       "      <td>Ukraine</td>\n",
       "      <td>Master's degree</td>\n",
       "      <td>Employed full-time</td>\n",
       "      <td>7.0</td>\n",
       "      <td>100 to 499 employees</td>\n",
       "      <td>Computer science</td>\n",
       "      <td>5.0</td>\n",
       "      <td>0</td>\n",
       "      <td>1</td>\n",
       "      <td>NaN</td>\n",
       "      <td>NaN</td>\n",
       "    </tr>\n",
       "  </tbody>\n",
       "</table>\n",
       "</div>"
      ],
      "text/plain": [
       "   ID  Year                   Hobbyist  ConvertedComp         Country  \\\n",
       "0   0  2017                  Yes, both    43750.00000  United Kingdom   \n",
       "1   1  2017  Yes, I program as a hobby    51282.05128         Denmark   \n",
       "2   2  2017                         No    25000.00000          Israel   \n",
       "3   3  2017  Yes, I program as a hobby   100000.00000   United States   \n",
       "4   4  2017                  Yes, both    27000.00000         Ukraine   \n",
       "\n",
       "                                             EdLevel          Employment  \\\n",
       "0                                  Bachelor's degree  Employed full-time   \n",
       "1  Some college/university study without earning ...  Employed part-time   \n",
       "2  Some college/university study without earning ...  Employed full-time   \n",
       "3  Some college/university study without earning ...  Employed full-time   \n",
       "4                                    Master's degree  Employed full-time   \n",
       "\n",
       "   JobSat                   OrgSize    UndergradMajor  YearsCodePro  \\\n",
       "0     4.0          2 to 9 employees  Computer science           2.0   \n",
       "1    10.0      100 to 499 employees  Computer science           3.0   \n",
       "2     6.0  5,000 to 9,999 employees  Computer science           4.0   \n",
       "3     5.0        20 to 99 employees  Computer science          15.0   \n",
       "4     7.0      100 to 499 employees  Computer science           5.0   \n",
       "\n",
       "   DS_or_MLS  DBA  DA_or_BA  SE  \n",
       "0          1    1       NaN NaN  \n",
       "1          1    0       NaN NaN  \n",
       "2          1    0       NaN NaN  \n",
       "3          0    1       NaN NaN  \n",
       "4          0    1       NaN NaN  "
      ]
     },
     "execution_count": 37,
     "metadata": {},
     "output_type": "execute_result"
    }
   ],
   "source": [
    "# inserindo coluna com ID dos indivíduos\n",
    "df2.insert(loc=0, column='ID', value=df2.index)\n",
    "df2.head()"
   ]
  },
  {
   "cell_type": "code",
   "execution_count": 38,
   "metadata": {},
   "outputs": [],
   "source": [
    "# atributos que serão considerados nas classificações\n",
    "colunas = ['ID', 'Year','Country','EdLevel','Employment', 'OrgSize']"
   ]
  },
  {
   "cell_type": "markdown",
   "metadata": {},
   "source": [
    "#### 3.2.1. Transformando os dados para tipo numérico"
   ]
  },
  {
   "cell_type": "code",
   "execution_count": 39,
   "metadata": {},
   "outputs": [
    {
     "data": {
      "text/html": [
       "<div>\n",
       "<style scoped>\n",
       "    .dataframe tbody tr th:only-of-type {\n",
       "        vertical-align: middle;\n",
       "    }\n",
       "\n",
       "    .dataframe tbody tr th {\n",
       "        vertical-align: top;\n",
       "    }\n",
       "\n",
       "    .dataframe thead th {\n",
       "        text-align: right;\n",
       "    }\n",
       "</style>\n",
       "<table border=\"1\" class=\"dataframe\">\n",
       "  <thead>\n",
       "    <tr style=\"text-align: right;\">\n",
       "      <th></th>\n",
       "      <th>ID</th>\n",
       "      <th>Year</th>\n",
       "      <th>Hobbyist</th>\n",
       "      <th>ConvertedComp</th>\n",
       "      <th>Country</th>\n",
       "      <th>EdLevel</th>\n",
       "      <th>Employment</th>\n",
       "      <th>JobSat</th>\n",
       "      <th>OrgSize</th>\n",
       "      <th>UndergradMajor</th>\n",
       "      <th>YearsCodePro</th>\n",
       "      <th>DS_or_MLS</th>\n",
       "      <th>DBA</th>\n",
       "      <th>DA_or_BA</th>\n",
       "      <th>SE</th>\n",
       "    </tr>\n",
       "  </thead>\n",
       "  <tbody>\n",
       "    <tr>\n",
       "      <th>0</th>\n",
       "      <td>0</td>\n",
       "      <td>2017</td>\n",
       "      <td>4</td>\n",
       "      <td>4307</td>\n",
       "      <td>166</td>\n",
       "      <td>1</td>\n",
       "      <td>0</td>\n",
       "      <td>4</td>\n",
       "      <td>4</td>\n",
       "      <td>4</td>\n",
       "      <td>1</td>\n",
       "      <td>1</td>\n",
       "      <td>1</td>\n",
       "      <td>2</td>\n",
       "      <td>2</td>\n",
       "    </tr>\n",
       "    <tr>\n",
       "      <th>1</th>\n",
       "      <td>1</td>\n",
       "      <td>2017</td>\n",
       "      <td>3</td>\n",
       "      <td>4893</td>\n",
       "      <td>42</td>\n",
       "      <td>9</td>\n",
       "      <td>1</td>\n",
       "      <td>10</td>\n",
       "      <td>3</td>\n",
       "      <td>4</td>\n",
       "      <td>2</td>\n",
       "      <td>1</td>\n",
       "      <td>0</td>\n",
       "      <td>2</td>\n",
       "      <td>2</td>\n",
       "    </tr>\n",
       "    <tr>\n",
       "      <th>2</th>\n",
       "      <td>2</td>\n",
       "      <td>2017</td>\n",
       "      <td>0</td>\n",
       "      <td>2749</td>\n",
       "      <td>75</td>\n",
       "      <td>9</td>\n",
       "      <td>0</td>\n",
       "      <td>6</td>\n",
       "      <td>6</td>\n",
       "      <td>4</td>\n",
       "      <td>3</td>\n",
       "      <td>1</td>\n",
       "      <td>0</td>\n",
       "      <td>2</td>\n",
       "      <td>2</td>\n",
       "    </tr>\n",
       "    <tr>\n",
       "      <th>3</th>\n",
       "      <td>3</td>\n",
       "      <td>2017</td>\n",
       "      <td>3</td>\n",
       "      <td>7323</td>\n",
       "      <td>168</td>\n",
       "      <td>9</td>\n",
       "      <td>0</td>\n",
       "      <td>5</td>\n",
       "      <td>5</td>\n",
       "      <td>4</td>\n",
       "      <td>14</td>\n",
       "      <td>0</td>\n",
       "      <td>1</td>\n",
       "      <td>2</td>\n",
       "      <td>2</td>\n",
       "    </tr>\n",
       "    <tr>\n",
       "      <th>4</th>\n",
       "      <td>4</td>\n",
       "      <td>2017</td>\n",
       "      <td>4</td>\n",
       "      <td>2918</td>\n",
       "      <td>164</td>\n",
       "      <td>5</td>\n",
       "      <td>0</td>\n",
       "      <td>7</td>\n",
       "      <td>3</td>\n",
       "      <td>4</td>\n",
       "      <td>4</td>\n",
       "      <td>0</td>\n",
       "      <td>1</td>\n",
       "      <td>2</td>\n",
       "      <td>2</td>\n",
       "    </tr>\n",
       "  </tbody>\n",
       "</table>\n",
       "</div>"
      ],
      "text/plain": [
       "   ID  Year  Hobbyist  ConvertedComp  Country  EdLevel  Employment  JobSat  \\\n",
       "0   0  2017         4           4307      166        1           0       4   \n",
       "1   1  2017         3           4893       42        9           1      10   \n",
       "2   2  2017         0           2749       75        9           0       6   \n",
       "3   3  2017         3           7323      168        9           0       5   \n",
       "4   4  2017         4           2918      164        5           0       7   \n",
       "\n",
       "   OrgSize  UndergradMajor  YearsCodePro  DS_or_MLS  DBA  DA_or_BA  SE  \n",
       "0        4               4             1          1    1         2   2  \n",
       "1        3               4             2          1    0         2   2  \n",
       "2        6               4             3          1    0         2   2  \n",
       "3        5               4            14          0    1         2   2  \n",
       "4        3               4             4          0    1         2   2  "
      ]
     },
     "execution_count": 39,
     "metadata": {},
     "output_type": "execute_result"
    }
   ],
   "source": [
    "df2_encoded = df2.copy()\n",
    "\n",
    "for coluna in df2_encoded.columns[2:]:\n",
    "    df2_encoded[coluna] = le.fit_transform(df2_encoded[coluna])\n",
    "df2_encoded.head()"
   ]
  },
  {
   "cell_type": "code",
   "execution_count": 40,
   "metadata": {},
   "outputs": [],
   "source": [
    "# atributos\n",
    "rl_data = df2_encoded[colunas].values\n",
    "\n",
    "# classes (nível de satisfação com o trabalho, escala de 0 a 10)\n",
    "rl_target = df2_encoded['JobSat'].values"
   ]
  },
  {
   "cell_type": "code",
   "execution_count": 41,
   "metadata": {},
   "outputs": [
    {
     "data": {
      "text/plain": [
       "0.023027965281791962"
      ]
     },
     "execution_count": 41,
     "metadata": {},
     "output_type": "execute_result"
    }
   ],
   "source": [
    "# classificador Regressão Linear\n",
    "from sklearn.linear_model import LinearRegression\n",
    "X_train_rl, X_test_rl, y_train_rl, y_test_rl = train_test_split(rl_data, rl_target, test_size=0.3, random_state=18)\n",
    "\n",
    "reg = LinearRegression().fit(X_train_rl, y_train_rl)\n",
    "reg.score(X_test_rl, y_test_rl)"
   ]
  },
  {
   "cell_type": "code",
   "execution_count": 42,
   "metadata": {},
   "outputs": [
    {
     "data": {
      "text/plain": [
       "array([6.68086348, 5.86706866, 5.92256843, ..., 6.10003029, 5.94437714,\n",
       "       5.94558346])"
      ]
     },
     "execution_count": 42,
     "metadata": {},
     "output_type": "execute_result"
    }
   ],
   "source": [
    "# predizendo os dados de teste\n",
    "rl_pred = reg.predict(X_test_rl)\n",
    "rl_pred"
   ]
  },
  {
   "cell_type": "markdown",
   "metadata": {},
   "source": [
    "#### 3.2.2. Métricas de avaliação Regressão Linear\n",
    "Por se tratar de uma regressão, as métricas f1 score, accuracy, precision e recall não são aplicáveis."
   ]
  },
  {
   "cell_type": "code",
   "execution_count": 43,
   "metadata": {},
   "outputs": [
    {
     "data": {
      "text/plain": [
       "0.023027965281791962"
      ]
     },
     "execution_count": 43,
     "metadata": {},
     "output_type": "execute_result"
    }
   ],
   "source": [
    "# score do modelo\n",
    "reg.score(X_test_rl, y_test_rl)"
   ]
  },
  {
   "cell_type": "markdown",
   "metadata": {},
   "source": [
    "#### 3.2.3. Persistindo o modelo"
   ]
  },
  {
   "cell_type": "code",
   "execution_count": 44,
   "metadata": {},
   "outputs": [],
   "source": [
    "with open('modelo_RL', 'wb') as f: \n",
    "    joblib.dump(reg, f)\n",
    "with open('modelo_RL', 'rb') as f:  \n",
    "    modelo_rl = joblib.load(f)"
   ]
  },
  {
   "cell_type": "code",
   "execution_count": 45,
   "metadata": {},
   "outputs": [
    {
     "data": {
      "text/plain": [
       "array([6.68086348, 5.86706866, 5.92256843, ..., 6.10003029, 5.94437714,\n",
       "       5.94558346])"
      ]
     },
     "execution_count": 45,
     "metadata": {},
     "output_type": "execute_result"
    }
   ],
   "source": [
    "modelo_rl.predict(X_test_rl)"
   ]
  },
  {
   "cell_type": "markdown",
   "metadata": {},
   "source": [
    "### 3.3. Classificador de Regressão Logística"
   ]
  },
  {
   "cell_type": "code",
   "execution_count": 46,
   "metadata": {},
   "outputs": [],
   "source": [
    "from random import uniform\n",
    "import matplotlib.pyplot as plt\n",
    "from sklearn.linear_model import LogisticRegression\n",
    "import numpy as np\n",
    "%matplotlib inline"
   ]
  },
  {
   "cell_type": "code",
   "execution_count": 47,
   "metadata": {},
   "outputs": [],
   "source": [
    "exam_1 = [] \n",
    "exm_2 = [] \n",
    "\n",
    "# laço de repetição para criar as notas aleatoriamente\n",
    "for i in range(0,len(df_encoded)): \n",
    "    if df_encoded['target'][i] == 1:\n",
    "        ex_1 = round(uniform(1, 100), 6)\n",
    "        ex_2 = round(uniform((100-ex_1), 100), 6)\n",
    "        \n",
    "        exam_1.append(ex_1)\n",
    "        exm_2.append(ex_2)\n",
    "        \n",
    "    if df_encoded['target'][i] == 0:\n",
    "        ex_1_0 = round(uniform(1, 100), 6)\n",
    "        ex_2_0 = round(uniform(1, (100 - ex_1_0)), 6)\n",
    "        \n",
    "        # adicionando as notas\n",
    "        exam_1.append(ex_1_0) \n",
    "        exm_2.append(ex_2_0) \n",
    "        \n",
    "# novas colunas        \n",
    "df_encoded[\"exame1\"] = exam_1  \n",
    "df_encoded[\"exame2\"] = exm_2   \n",
    "\n",
    "# organizando a ordem das colunas\n",
    "df_encoded = df_encoded[['city', 'city_development_index',\n",
    "       'relevent_experience', 'enrolled_university', 'education_level',\n",
    "       'major_discipline', 'experience', 'company_size', 'company_type',\n",
    "       'last_new_job', 'training_hours','exame1','exame2','target']]  "
   ]
  },
  {
   "cell_type": "markdown",
   "metadata": {},
   "source": [
    "#### 3.3.1 Gráficos dos dados\n",
    "#### X"
   ]
  },
  {
   "cell_type": "code",
   "execution_count": 48,
   "metadata": {},
   "outputs": [
    {
     "data": {
      "text/plain": [
       "Text(0, 0.5, 'Exam 2 Score')"
      ]
     },
     "execution_count": 48,
     "metadata": {},
     "output_type": "execute_result"
    },
    {
     "data": {
      "image/png": "[encoded data removed]",
      "text/plain": [
       "<Figure size 432x432 with 1 Axes>"
      ]
     },
     "metadata": {
      "needs_background": "light"
     },
     "output_type": "display_data"
    }
   ],
   "source": [
    "positive = df_encoded[df_encoded['target'].isin([1])]  # obtendo todos os valores da lista que tem target == 1\n",
    "negative = df_encoded[df_encoded['target'].isin([0])]  # obtendo todos os valores da lista que tem target == 0\n",
    "\n",
    "fig, ax = plt.subplots(figsize=(6,6))\n",
    "\n",
    "# criando os pontos azuis no gráfico\n",
    "ax.scatter(positive['exame1'].head(40), positive['exame2'].head(40), s=50, c='b', marker='o', label='Admitido')\n",
    "\n",
    "# criando os pontos vermelhos no gráfico\n",
    "ax.scatter(negative['exame1'].head(40), negative['exame2'].head(40), s=50, c='r', marker='x', label='Não Admitido')\n",
    "\n",
    "ax.legend('Comparação entre admitidos e não admitidos')\n",
    "ax.set_xlabel('Exam 1 Score')  \n",
    "ax.set_ylabel('Exam 2 Score')"
   ]
  },
  {
   "cell_type": "code",
   "execution_count": 49,
   "metadata": {},
   "outputs": [
    {
     "data": {
      "text/plain": [
       "<AxesSubplot:xlabel='exame2', ylabel='exame1'>"
      ]
     },
     "execution_count": 49,
     "metadata": {},
     "output_type": "execute_result"
    },
    {
     "data": {
      "image/png": "[encoded data removed]",
      "text/plain": [
       "<Figure size 432x288 with 1 Axes>"
      ]
     },
     "metadata": {
      "needs_background": "light"
     },
     "output_type": "display_data"
    }
   ],
   "source": [
    "sns.regplot(x='exame2',y='exame1',data=df_encoded.head(40), scatter=True) # criando um gráfico seaborn com os valores dos exames"
   ]
  },
  {
   "cell_type": "markdown",
   "metadata": {},
   "source": [
    "#### y"
   ]
  },
  {
   "cell_type": "code",
   "execution_count": 50,
   "metadata": {},
   "outputs": [
    {
     "data": {
      "image/png": "[encoded data removed]",
      "text/plain": [
       "<Figure size 432x288 with 1 Axes>"
      ]
     },
     "metadata": {},
     "output_type": "display_data"
    }
   ],
   "source": [
    "dados = df_encoded['target'].value_counts()  # criando visualização quantitativa dos valores de target\n",
    "nomes = ['1','2']\n",
    "fig1, ax1= plt.subplots()\n",
    "\n",
    "ax1.pie(dados, labels=nomes, autopct='%1.1f%%', shadow=True, startangle = 90)\n",
    "\n",
    "plt.title('valores de target')\n",
    "ax1.axis('equal')\n",
    "plt.show()"
   ]
  },
  {
   "cell_type": "code",
   "execution_count": 51,
   "metadata": {},
   "outputs": [],
   "source": [
    "# dividindo teste e treino\n",
    "X_train_log, X_test_log, y_train_log, y_test_log = train_test_split(df_encoded[['exame1','exame2']], \n",
    "                                                                    df_encoded['target'], test_size=0.3, random_state= 18) "
   ]
  },
  {
   "cell_type": "code",
   "execution_count": 52,
   "metadata": {},
   "outputs": [],
   "source": [
    "# X (train data) e y (target variavel)\n",
    "X = X_train_log\n",
    "y = y_train_log.values"
   ]
  },
  {
   "cell_type": "code",
   "execution_count": 53,
   "metadata": {},
   "outputs": [],
   "source": [
    "from sklearn.preprocessing import StandardScaler\n",
    "scaler = StandardScaler() # padronizador"
   ]
  },
  {
   "cell_type": "code",
   "execution_count": 54,
   "metadata": {},
   "outputs": [],
   "source": [
    "scaler.fit(X) \n",
    "X = scaler.transform(X) # padronizando X"
   ]
  },
  {
   "cell_type": "markdown",
   "metadata": {},
   "source": [
    "#### 3.3.2. Sigmoid"
   ]
  },
  {
   "cell_type": "code",
   "execution_count": 55,
   "metadata": {},
   "outputs": [],
   "source": [
    "def sigmoid(z):\n",
    "    return 1 / ( 1 + np.exp(-z)) # calculo da sigmoid"
   ]
  },
  {
   "cell_type": "code",
   "execution_count": 56,
   "metadata": {},
   "outputs": [
    {
     "data": {
      "text/plain": [
       "[<matplotlib.lines.Line2D at 0x13063c7bf28>]"
      ]
     },
     "execution_count": 56,
     "metadata": {},
     "output_type": "execute_result"
    },
    {
     "data": {
      "image/png": "[encoded data removed]",
      "text/plain": [
       "<Figure size 432x288 with 1 Axes>"
      ]
     },
     "metadata": {
      "needs_background": "light"
     },
     "output_type": "display_data"
    }
   ],
   "source": [
    "# criando gráfico da sigmoid\n",
    "\n",
    "nums = np.arange(-10, 10, step=1) # distribuição entre -10 e 10 (criada pelo np)\n",
    "\n",
    "# plotando a sigmoid\n",
    "fig, ax = plt.subplots(figsize=(6,4))  \n",
    "ax.plot(nums, sigmoid(nums), 's')"
   ]
  },
  {
   "cell_type": "markdown",
   "metadata": {},
   "source": [
    "#### 3.3.3. Implementação da regressão"
   ]
  },
  {
   "cell_type": "code",
   "execution_count": 57,
   "metadata": {},
   "outputs": [
    {
     "name": "stdout",
     "output_type": "stream",
     "text": [
      "-0.5106295146620115\n"
     ]
    }
   ],
   "source": [
    "from scipy.stats import spearmanr\n",
    "# criando visualizaçao da correlação dos dados\n",
    "ex_1 = df_encoded['exame1']\n",
    "ex_2 = df_encoded['exame2']\n",
    "\n",
    "spearman, p = spearmanr(ex_1,ex_2)\n",
    "print(spearman)"
   ]
  },
  {
   "cell_type": "code",
   "execution_count": 58,
   "metadata": {},
   "outputs": [
    {
     "name": "stdout",
     "output_type": "stream",
     "text": [
      "0.989\n"
     ]
    }
   ],
   "source": [
    "# classificador de regressão logística\n",
    "reg_logistica = LogisticRegression().fit(X,y) \n",
    "print(round(reg_logistica.score(X,y),4)) "
   ]
  },
  {
   "cell_type": "code",
   "execution_count": 59,
   "metadata": {},
   "outputs": [],
   "source": [
    "# padronizando o X teste\n",
    "scaler.fit(X_test_log)  \n",
    "X_test_log = scaler.transform(X_test_log) \n",
    "\n",
    "# predizendo os dados de teste\n",
    "y_predito = reg_logistica.predict(X_test_log)"
   ]
  },
  {
   "cell_type": "markdown",
   "metadata": {},
   "source": [
    "#### 3.3.4. métricas de avaliação Regressão Logística"
   ]
  },
  {
   "cell_type": "code",
   "execution_count": 120,
   "metadata": {},
   "outputs": [
    {
     "name": "stdout",
     "output_type": "stream",
     "text": [
      "Confusion Matrix\n",
      " [[4307   37]\n",
      " [  38 1366]]\n"
     ]
    }
   ],
   "source": [
    "# confusion matrix\n",
    "cm = confusion_matrix(y_test_log, y_predito)\n",
    "print(\"Confusion Matrix\\n\",cm)"
   ]
  },
  {
   "cell_type": "code",
   "execution_count": 121,
   "metadata": {},
   "outputs": [
    {
     "name": "stdout",
     "output_type": "stream",
     "text": [
      "F1 score: 0.9869519832985385\n"
     ]
    }
   ],
   "source": [
    "# f1 score\n",
    "print(\"F1 score:\", f1_score(y_test_log, y_predito, average='micro'))"
   ]
  },
  {
   "cell_type": "code",
   "execution_count": 122,
   "metadata": {},
   "outputs": [
    {
     "name": "stdout",
     "output_type": "stream",
     "text": [
      "Precision score: 0.9869519832985386\n"
     ]
    }
   ],
   "source": [
    "# precision\n",
    "print(\"Precision score:\", precision_score(y_test_log, y_predito, average='micro'))"
   ]
  },
  {
   "cell_type": "code",
   "execution_count": 123,
   "metadata": {},
   "outputs": [
    {
     "name": "stdout",
     "output_type": "stream",
     "text": [
      "Accuracy score:  0.9869519832985386\n"
     ]
    }
   ],
   "source": [
    "# accuracy \n",
    "print(\"Accuracy score: \", accuracy_score(y_test_log, y_predito))"
   ]
  },
  {
   "cell_type": "code",
   "execution_count": 124,
   "metadata": {},
   "outputs": [
    {
     "name": "stdout",
     "output_type": "stream",
     "text": [
      "Recall score:  0.9729344729344729\n"
     ]
    }
   ],
   "source": [
    "# recall\n",
    "print(\"Recall score: \", recall_score(y_test_log, y_predito))"
   ]
  },
  {
   "cell_type": "code",
   "execution_count": 125,
   "metadata": {},
   "outputs": [
    {
     "name": "stdout",
     "output_type": "stream",
     "text": [
      "Relatório de classificação: \n",
      "               precision    recall  f1-score   support\n",
      "\n",
      "           0       0.99      0.99      0.99      4344\n",
      "           1       0.97      0.97      0.97      1404\n",
      "\n",
      "    accuracy                           0.99      5748\n",
      "   macro avg       0.98      0.98      0.98      5748\n",
      "weighted avg       0.99      0.99      0.99      5748\n",
      "\n"
     ]
    }
   ],
   "source": [
    "from sklearn.metrics import classification_report\n",
    "\n",
    "print(\"Relatório de classificação: \\n\", classification_report(y_test_log, y_predito))"
   ]
  },
  {
   "cell_type": "markdown",
   "metadata": {},
   "source": [
    "#### 3.3.5. Persistindo o modelo"
   ]
  },
  {
   "cell_type": "code",
   "execution_count": 126,
   "metadata": {},
   "outputs": [],
   "source": [
    "with open('modelo_reg_log', 'wb') as f: \n",
    "    joblib.dump(reg_logistica, f)\n",
    "with open('modelo_reg_log', 'rb') as f:  \n",
    "    modelo_reg_log = joblib.load(f)"
   ]
  },
  {
   "cell_type": "code",
   "execution_count": 127,
   "metadata": {},
   "outputs": [
    {
     "data": {
      "text/plain": [
       "array([1, 1, 1, ..., 0, 1, 0], dtype=int64)"
      ]
     },
     "execution_count": 127,
     "metadata": {},
     "output_type": "execute_result"
    }
   ],
   "source": [
    "modelo_reg_log.predict(X_test_log)"
   ]
  },
  {
   "cell_type": "markdown",
   "metadata": {},
   "source": [
    "### 3.4. Classificador Naive Bayes"
   ]
  },
  {
   "cell_type": "code",
   "execution_count": 68,
   "metadata": {},
   "outputs": [],
   "source": [
    "from sklearn.naive_bayes import BernoulliNB"
   ]
  },
  {
   "cell_type": "code",
   "execution_count": 69,
   "metadata": {
    "scrolled": true
   },
   "outputs": [
    {
     "data": {
      "text/plain": [
       "array([0, 0, 0, ..., 0, 0, 0], dtype=int64)"
      ]
     },
     "execution_count": 69,
     "metadata": {},
     "output_type": "execute_result"
    }
   ],
   "source": [
    "bnb = BernoulliNB()\n",
    "bnb.fit(X_train, y_train)\n",
    "\n",
    "predições = bnb.predict(X_test)\n",
    "predições"
   ]
  },
  {
   "cell_type": "markdown",
   "metadata": {},
   "source": [
    "#### 3.4.1. Métricas de avaliação Naive Bayes"
   ]
  },
  {
   "cell_type": "code",
   "execution_count": 70,
   "metadata": {},
   "outputs": [
    {
     "name": "stdout",
     "output_type": "stream",
     "text": [
      "Accuracy score: 0.7538274182324287\n"
     ]
    }
   ],
   "source": [
    "print('Accuracy score:', accuracy_score(predições, y_test))"
   ]
  },
  {
   "cell_type": "code",
   "execution_count": 71,
   "metadata": {},
   "outputs": [
    {
     "name": "stdout",
     "output_type": "stream",
     "text": [
      "F1 score: 0.21432537479178235\n"
     ]
    }
   ],
   "source": [
    "print('F1 score:', f1_score(predições, y_test))"
   ]
  },
  {
   "cell_type": "code",
   "execution_count": 72,
   "metadata": {
    "scrolled": true
   },
   "outputs": [
    {
     "name": "stdout",
     "output_type": "stream",
     "text": [
      "Precison score: 0.13746438746438747\n"
     ]
    }
   ],
   "source": [
    "print('Precison score:', precision_score(predições, y_test))"
   ]
  },
  {
   "cell_type": "code",
   "execution_count": 73,
   "metadata": {},
   "outputs": [
    {
     "name": "stdout",
     "output_type": "stream",
     "text": [
      "Recall score: 0.48614609571788414\n"
     ]
    }
   ],
   "source": [
    "print('Recall score:', recall_score(predições, y_test))"
   ]
  },
  {
   "cell_type": "code",
   "execution_count": 74,
   "metadata": {},
   "outputs": [
    {
     "name": "stdout",
     "output_type": "stream",
     "text": [
      "Confusion matrix:\n",
      " [[4140 1211]\n",
      " [ 204  193]]\n"
     ]
    }
   ],
   "source": [
    "print('Confusion matrix:\\n', confusion_matrix(predições, y_test))"
   ]
  },
  {
   "cell_type": "code",
   "execution_count": 75,
   "metadata": {},
   "outputs": [
    {
     "data": {
      "text/plain": [
       "0.7538274182324287"
      ]
     },
     "execution_count": 75,
     "metadata": {},
     "output_type": "execute_result"
    }
   ],
   "source": [
    "# Score do modelo\n",
    "bnb.score(X_test, y_test)"
   ]
  },
  {
   "cell_type": "markdown",
   "metadata": {},
   "source": [
    "#### 3.4.2. Persistindo o modelo"
   ]
  },
  {
   "cell_type": "code",
   "execution_count": 76,
   "metadata": {},
   "outputs": [],
   "source": [
    "with open('modelo_NB', 'wb') as f:\n",
    "    joblib.dump(bnb, f)\n",
    "with open('modelo_NB', 'rb') as f:\n",
    "    modelo_NB = joblib.load(f)"
   ]
  },
  {
   "cell_type": "code",
   "execution_count": 77,
   "metadata": {},
   "outputs": [
    {
     "data": {
      "text/plain": [
       "array([0, 0, 0, ..., 0, 0, 0], dtype=int64)"
      ]
     },
     "execution_count": 77,
     "metadata": {},
     "output_type": "execute_result"
    }
   ],
   "source": [
    "modelo_NB.predict(X_test)"
   ]
  },
  {
   "cell_type": "markdown",
   "metadata": {},
   "source": [
    "### 3.5. Classificador de Árvore de Decisão \n",
    "Através do classificador de Árvore de Decisão é possível decidir se um candidato realmente deseja trabalhar na empresa ou não, logo, decidindo se o mesmo continuará no processo de seleção."
   ]
  },
  {
   "cell_type": "code",
   "execution_count": 78,
   "metadata": {},
   "outputs": [],
   "source": [
    "from sklearn.tree import DecisionTreeClassifier\n",
    "from sklearn import tree"
   ]
  },
  {
   "cell_type": "code",
   "execution_count": 79,
   "metadata": {},
   "outputs": [],
   "source": [
    "# atributos influentes na classificação\n",
    "ad_data_columns = ['experience', 'last_new_job', 'training_hours']"
   ]
  },
  {
   "cell_type": "code",
   "execution_count": 80,
   "metadata": {},
   "outputs": [],
   "source": [
    "# definindo atributos e target\n",
    "X_dt = df_encoded[ad_data_columns].values\n",
    "y_dt = df['target'].values\n",
    "\n",
    "# X_dt\n",
    "# y_dt"
   ]
  },
  {
   "cell_type": "code",
   "execution_count": 81,
   "metadata": {},
   "outputs": [],
   "source": [
    "# dividindo treino e teste\n",
    "X_train_dt, X_test_dt, y_train_dt, y_test_dt = train_test_split(X_dt, y_dt, test_size=0.3, random_state=18)"
   ]
  },
  {
   "cell_type": "code",
   "execution_count": 82,
   "metadata": {},
   "outputs": [
    {
     "data": {
      "text/plain": [
       "DecisionTreeClassifier()"
      ]
     },
     "execution_count": 82,
     "metadata": {},
     "output_type": "execute_result"
    }
   ],
   "source": [
    "# classificador\n",
    "dtc = DecisionTreeClassifier()\n",
    "\n",
    "dtc.fit(X_train_dt, y_train_dt)"
   ]
  },
  {
   "cell_type": "code",
   "execution_count": 83,
   "metadata": {},
   "outputs": [
    {
     "data": {
      "text/plain": [
       "array([0.19136438, 0.16706842, 0.6415672 ])"
      ]
     },
     "execution_count": 83,
     "metadata": {},
     "output_type": "execute_result"
    }
   ],
   "source": [
    "# importância dos atributos\n",
    "dtc.feature_importances_"
   ]
  },
  {
   "cell_type": "code",
   "execution_count": 84,
   "metadata": {},
   "outputs": [
    {
     "data": {
      "text/plain": [
       "array([0., 0., 0., ..., 0., 0., 0.])"
      ]
     },
     "execution_count": 84,
     "metadata": {},
     "output_type": "execute_result"
    }
   ],
   "source": [
    "# predizendo os dados de teste\n",
    "predictions_dtc = dtc.predict(X_test_dt)\n",
    "predictions_dtc"
   ]
  },
  {
   "cell_type": "code",
   "execution_count": 85,
   "metadata": {
    "scrolled": true
   },
   "outputs": [
    {
     "data": {
      "text/plain": [
       "array([0., 0., 1.])"
      ]
     },
     "execution_count": 85,
     "metadata": {},
     "output_type": "execute_result"
    }
   ],
   "source": [
    "# TEMPO DE EXPERIÊNCIA | HÁ QUANTO TEMPO FOI O ÚLTIMO EMPREGO | HORAS DE TREINAMENTO\n",
    "# caso 1: +20 anos, 4 anos, 50 horas\n",
    "# caso 2: 5 anos, continua trabalhando, 83 horas\n",
    "# caso 3: 15 anos, 2 anos, 32 horas\n",
    "\n",
    "casos_dtc = dtc.predict([[21,3,49],\n",
    "                               [20,5,51],\n",
    "                               [6,1,31]])\n",
    "casos_dtc"
   ]
  },
  {
   "cell_type": "markdown",
   "metadata": {},
   "source": [
    "#### 3.5.1. Métricas de avaliação Árvore de Decisão"
   ]
  },
  {
   "cell_type": "code",
   "execution_count": 86,
   "metadata": {},
   "outputs": [
    {
     "name": "stdout",
     "output_type": "stream",
     "text": [
      "F1 score: 0.24625623960066556\n"
     ]
    }
   ],
   "source": [
    "print(\"F1 score:\", f1_score(predictions_dtc, y_test_dt))"
   ]
  },
  {
   "cell_type": "code",
   "execution_count": 87,
   "metadata": {},
   "outputs": [
    {
     "name": "stdout",
     "output_type": "stream",
     "text": [
      "Precision score: 0.21082621082621084\n"
     ]
    }
   ],
   "source": [
    "print(\"Precision score:\", precision_score(predictions_dtc, y_test_dt))"
   ]
  },
  {
   "cell_type": "code",
   "execution_count": 88,
   "metadata": {},
   "outputs": [
    {
     "name": "stdout",
     "output_type": "stream",
     "text": [
      "Accuracy score: 0.6847599164926931\n"
     ]
    }
   ],
   "source": [
    "print(\"Accuracy score:\", accuracy_score(predictions_dtc, y_test_dt))"
   ]
  },
  {
   "cell_type": "code",
   "execution_count": 89,
   "metadata": {},
   "outputs": [
    {
     "name": "stdout",
     "output_type": "stream",
     "text": [
      "Recall score: 0.296\n"
     ]
    }
   ],
   "source": [
    "print(\"Recall score:\", recall_score(predictions_dtc, y_test_dt))"
   ]
  },
  {
   "cell_type": "code",
   "execution_count": 90,
   "metadata": {
    "scrolled": true
   },
   "outputs": [
    {
     "data": {
      "text/plain": [
       "0.6847599164926931"
      ]
     },
     "execution_count": 90,
     "metadata": {},
     "output_type": "execute_result"
    }
   ],
   "source": [
    "# score geral do modelo\n",
    "dtc.score(X_test_dt, y_test_dt)"
   ]
  },
  {
   "cell_type": "markdown",
   "metadata": {},
   "source": [
    "#### 3.5.2. Persistindo o modelo"
   ]
  },
  {
   "cell_type": "code",
   "execution_count": 91,
   "metadata": {},
   "outputs": [],
   "source": [
    "with open('modelo_DT', 'wb') as f:\n",
    "    joblib.dump(dtc, f)\n",
    "with open('modelo_DT', 'rb') as f:\n",
    "    modelo_dt = joblib.load(f)"
   ]
  },
  {
   "cell_type": "code",
   "execution_count": 92,
   "metadata": {},
   "outputs": [
    {
     "data": {
      "text/plain": [
       "array([0., 0., 0., ..., 0., 0., 0.])"
      ]
     },
     "execution_count": 92,
     "metadata": {},
     "output_type": "execute_result"
    }
   ],
   "source": [
    "modelo_dt.predict(X_test_dt)"
   ]
  },
  {
   "cell_type": "markdown",
   "metadata": {},
   "source": [
    "## 4. Banco de Dados\n",
    "### 4.1. Dataset 1"
   ]
  },
  {
   "cell_type": "code",
   "execution_count": 93,
   "metadata": {},
   "outputs": [],
   "source": [
    "import pandas as pd\n",
    "import sqlite3 as sql\n",
    "import matplotlib.pyplot as plt\n",
    "from sqlalchemy import create_engine\n",
    "import scipy.stats as stats\n",
    "import pylab as pl\n",
    "\n",
    "engine = create_engine('sqlite://', echo=False)  #engine para consultar o BD."
   ]
  },
  {
   "cell_type": "code",
   "execution_count": 94,
   "metadata": {},
   "outputs": [
    {
     "data": {
      "text/html": [
       "<div>\n",
       "<style scoped>\n",
       "    .dataframe tbody tr th:only-of-type {\n",
       "        vertical-align: middle;\n",
       "    }\n",
       "\n",
       "    .dataframe tbody tr th {\n",
       "        vertical-align: top;\n",
       "    }\n",
       "\n",
       "    .dataframe thead th {\n",
       "        text-align: right;\n",
       "    }\n",
       "</style>\n",
       "<table border=\"1\" class=\"dataframe\">\n",
       "  <thead>\n",
       "    <tr style=\"text-align: right;\">\n",
       "      <th></th>\n",
       "      <th>enrollee_id</th>\n",
       "      <th>city</th>\n",
       "      <th>city_development_index</th>\n",
       "      <th>gender</th>\n",
       "      <th>relevent_experience</th>\n",
       "      <th>enrolled_university</th>\n",
       "      <th>education_level</th>\n",
       "      <th>major_discipline</th>\n",
       "      <th>experience</th>\n",
       "      <th>company_size</th>\n",
       "      <th>company_type</th>\n",
       "      <th>last_new_job</th>\n",
       "      <th>training_hours</th>\n",
       "      <th>target</th>\n",
       "    </tr>\n",
       "  </thead>\n",
       "  <tbody>\n",
       "    <tr>\n",
       "      <th>0</th>\n",
       "      <td>8949</td>\n",
       "      <td>city_103</td>\n",
       "      <td>0.920</td>\n",
       "      <td>Male</td>\n",
       "      <td>Has relevent experience</td>\n",
       "      <td>no_enrollment</td>\n",
       "      <td>Graduate</td>\n",
       "      <td>STEM</td>\n",
       "      <td>&gt;20</td>\n",
       "      <td>NaN</td>\n",
       "      <td>NaN</td>\n",
       "      <td>1</td>\n",
       "      <td>36</td>\n",
       "      <td>1.0</td>\n",
       "    </tr>\n",
       "    <tr>\n",
       "      <th>1</th>\n",
       "      <td>29725</td>\n",
       "      <td>city_40</td>\n",
       "      <td>0.776</td>\n",
       "      <td>Male</td>\n",
       "      <td>No relevent experience</td>\n",
       "      <td>no_enrollment</td>\n",
       "      <td>Graduate</td>\n",
       "      <td>STEM</td>\n",
       "      <td>15</td>\n",
       "      <td>50-99</td>\n",
       "      <td>Pvt Ltd</td>\n",
       "      <td>&gt;4</td>\n",
       "      <td>47</td>\n",
       "      <td>0.0</td>\n",
       "    </tr>\n",
       "    <tr>\n",
       "      <th>2</th>\n",
       "      <td>11561</td>\n",
       "      <td>city_21</td>\n",
       "      <td>0.624</td>\n",
       "      <td>NaN</td>\n",
       "      <td>No relevent experience</td>\n",
       "      <td>Full time course</td>\n",
       "      <td>Graduate</td>\n",
       "      <td>STEM</td>\n",
       "      <td>5</td>\n",
       "      <td>NaN</td>\n",
       "      <td>NaN</td>\n",
       "      <td>never</td>\n",
       "      <td>83</td>\n",
       "      <td>0.0</td>\n",
       "    </tr>\n",
       "    <tr>\n",
       "      <th>3</th>\n",
       "      <td>33241</td>\n",
       "      <td>city_115</td>\n",
       "      <td>0.789</td>\n",
       "      <td>NaN</td>\n",
       "      <td>No relevent experience</td>\n",
       "      <td>NaN</td>\n",
       "      <td>Graduate</td>\n",
       "      <td>Business Degree</td>\n",
       "      <td>&lt;1</td>\n",
       "      <td>NaN</td>\n",
       "      <td>Pvt Ltd</td>\n",
       "      <td>never</td>\n",
       "      <td>52</td>\n",
       "      <td>1.0</td>\n",
       "    </tr>\n",
       "    <tr>\n",
       "      <th>4</th>\n",
       "      <td>666</td>\n",
       "      <td>city_162</td>\n",
       "      <td>0.767</td>\n",
       "      <td>Male</td>\n",
       "      <td>Has relevent experience</td>\n",
       "      <td>no_enrollment</td>\n",
       "      <td>Masters</td>\n",
       "      <td>STEM</td>\n",
       "      <td>&gt;20</td>\n",
       "      <td>50-99</td>\n",
       "      <td>Funded Startup</td>\n",
       "      <td>4</td>\n",
       "      <td>8</td>\n",
       "      <td>0.0</td>\n",
       "    </tr>\n",
       "  </tbody>\n",
       "</table>\n",
       "</div>"
      ],
      "text/plain": [
       "   enrollee_id      city  city_development_index gender  \\\n",
       "0         8949  city_103                   0.920   Male   \n",
       "1        29725   city_40                   0.776   Male   \n",
       "2        11561   city_21                   0.624    NaN   \n",
       "3        33241  city_115                   0.789    NaN   \n",
       "4          666  city_162                   0.767   Male   \n",
       "\n",
       "       relevent_experience enrolled_university education_level  \\\n",
       "0  Has relevent experience       no_enrollment        Graduate   \n",
       "1   No relevent experience       no_enrollment        Graduate   \n",
       "2   No relevent experience    Full time course        Graduate   \n",
       "3   No relevent experience                 NaN        Graduate   \n",
       "4  Has relevent experience       no_enrollment         Masters   \n",
       "\n",
       "  major_discipline experience company_size    company_type last_new_job  \\\n",
       "0             STEM        >20          NaN             NaN            1   \n",
       "1             STEM         15        50-99         Pvt Ltd           >4   \n",
       "2             STEM          5          NaN             NaN        never   \n",
       "3  Business Degree         <1          NaN         Pvt Ltd        never   \n",
       "4             STEM        >20        50-99  Funded Startup            4   \n",
       "\n",
       "   training_hours  target  \n",
       "0              36     1.0  \n",
       "1              47     0.0  \n",
       "2              83     0.0  \n",
       "3              52     1.0  \n",
       "4               8     0.0  "
      ]
     },
     "execution_count": 94,
     "metadata": {},
     "output_type": "execute_result"
    }
   ],
   "source": [
    "df.head()"
   ]
  },
  {
   "cell_type": "markdown",
   "metadata": {},
   "source": [
    "#### 4.1.1. Modelo conceitual"
   ]
  },
  {
   "cell_type": "markdown",
   "metadata": {},
   "source": [
    "<img src=\"modelo_lógico_atualizado.png\" />"
   ]
  },
  {
   "cell_type": "markdown",
   "metadata": {},
   "source": [
    "#### 4.1.2. Modelo lógico"
   ]
  },
  {
   "cell_type": "markdown",
   "metadata": {},
   "source": [
    "<img src=\"modelo_conceitual_ds1.png\" />"
   ]
  },
  {
   "cell_type": "markdown",
   "metadata": {},
   "source": [
    "#### 4.1.3. Criando e  Populando as tabelas Dataset 1\n"
   ]
  },
  {
   "cell_type": "code",
   "execution_count": 95,
   "metadata": {},
   "outputs": [],
   "source": [
    "# Especificando as colunas de cada tabela.\n",
    "\n",
    "person = ['enrollee_id', 'gender','target']\n",
    "schooling = ['enrollee_id', 'enrolled_university', 'education_level', 'major_discipline']\n",
    "city = ['enrollee_id', 'city', 'city_development_index']\n",
    "experience = ['enrollee_id', 'relevent_experience', 'experience', 'company_size', 'company_type', 'last_new_job', 'training_hours']  "
   ]
  },
  {
   "cell_type": "code",
   "execution_count": 96,
   "metadata": {},
   "outputs": [],
   "source": [
    "# Criando as tabelas.\n",
    "df_person = df.filter(items=person)\n",
    "df_schooling = df.filter(items=schooling)\n",
    "df_city = df.filter(items=city)\n",
    "df_experience = df.filter(items=experience)"
   ]
  },
  {
   "cell_type": "code",
   "execution_count": 97,
   "metadata": {},
   "outputs": [],
   "source": [
    "# Convertendo o Dataframe em SQL.\n",
    "\n",
    "df_person.to_sql('person', con=engine)\n",
    "df_schooling.to_sql('schooling', con=engine)\n",
    "df_city.to_sql('city', con=engine)\n",
    "df_experience.to_sql('experience', con=engine)"
   ]
  },
  {
   "cell_type": "markdown",
   "metadata": {},
   "source": [
    "### 4.2. Dataset 2"
   ]
  },
  {
   "cell_type": "code",
   "execution_count": 98,
   "metadata": {
    "scrolled": true
   },
   "outputs": [
    {
     "data": {
      "text/html": [
       "<div>\n",
       "<style scoped>\n",
       "    .dataframe tbody tr th:only-of-type {\n",
       "        vertical-align: middle;\n",
       "    }\n",
       "\n",
       "    .dataframe tbody tr th {\n",
       "        vertical-align: top;\n",
       "    }\n",
       "\n",
       "    .dataframe thead th {\n",
       "        text-align: right;\n",
       "    }\n",
       "</style>\n",
       "<table border=\"1\" class=\"dataframe\">\n",
       "  <thead>\n",
       "    <tr style=\"text-align: right;\">\n",
       "      <th></th>\n",
       "      <th>ID</th>\n",
       "      <th>Year</th>\n",
       "      <th>Hobbyist</th>\n",
       "      <th>ConvertedComp</th>\n",
       "      <th>Country</th>\n",
       "      <th>EdLevel</th>\n",
       "      <th>Employment</th>\n",
       "      <th>JobSat</th>\n",
       "      <th>OrgSize</th>\n",
       "      <th>UndergradMajor</th>\n",
       "      <th>YearsCodePro</th>\n",
       "      <th>DS_or_MLS</th>\n",
       "      <th>DBA</th>\n",
       "      <th>DA_or_BA</th>\n",
       "      <th>SE</th>\n",
       "    </tr>\n",
       "  </thead>\n",
       "  <tbody>\n",
       "    <tr>\n",
       "      <th>0</th>\n",
       "      <td>0</td>\n",
       "      <td>2017</td>\n",
       "      <td>Yes, both</td>\n",
       "      <td>43750.00000</td>\n",
       "      <td>United Kingdom</td>\n",
       "      <td>Bachelor's degree</td>\n",
       "      <td>Employed full-time</td>\n",
       "      <td>4.0</td>\n",
       "      <td>2 to 9 employees</td>\n",
       "      <td>Computer science</td>\n",
       "      <td>2.0</td>\n",
       "      <td>1</td>\n",
       "      <td>1</td>\n",
       "      <td>NaN</td>\n",
       "      <td>NaN</td>\n",
       "    </tr>\n",
       "    <tr>\n",
       "      <th>1</th>\n",
       "      <td>1</td>\n",
       "      <td>2017</td>\n",
       "      <td>Yes, I program as a hobby</td>\n",
       "      <td>51282.05128</td>\n",
       "      <td>Denmark</td>\n",
       "      <td>Some college/university study without earning ...</td>\n",
       "      <td>Employed part-time</td>\n",
       "      <td>10.0</td>\n",
       "      <td>100 to 499 employees</td>\n",
       "      <td>Computer science</td>\n",
       "      <td>3.0</td>\n",
       "      <td>1</td>\n",
       "      <td>0</td>\n",
       "      <td>NaN</td>\n",
       "      <td>NaN</td>\n",
       "    </tr>\n",
       "    <tr>\n",
       "      <th>2</th>\n",
       "      <td>2</td>\n",
       "      <td>2017</td>\n",
       "      <td>No</td>\n",
       "      <td>25000.00000</td>\n",
       "      <td>Israel</td>\n",
       "      <td>Some college/university study without earning ...</td>\n",
       "      <td>Employed full-time</td>\n",
       "      <td>6.0</td>\n",
       "      <td>5,000 to 9,999 employees</td>\n",
       "      <td>Computer science</td>\n",
       "      <td>4.0</td>\n",
       "      <td>1</td>\n",
       "      <td>0</td>\n",
       "      <td>NaN</td>\n",
       "      <td>NaN</td>\n",
       "    </tr>\n",
       "    <tr>\n",
       "      <th>3</th>\n",
       "      <td>3</td>\n",
       "      <td>2017</td>\n",
       "      <td>Yes, I program as a hobby</td>\n",
       "      <td>100000.00000</td>\n",
       "      <td>United States</td>\n",
       "      <td>Some college/university study without earning ...</td>\n",
       "      <td>Employed full-time</td>\n",
       "      <td>5.0</td>\n",
       "      <td>20 to 99 employees</td>\n",
       "      <td>Computer science</td>\n",
       "      <td>15.0</td>\n",
       "      <td>0</td>\n",
       "      <td>1</td>\n",
       "      <td>NaN</td>\n",
       "      <td>NaN</td>\n",
       "    </tr>\n",
       "    <tr>\n",
       "      <th>4</th>\n",
       "      <td>4</td>\n",
       "      <td>2017</td>\n",
       "      <td>Yes, both</td>\n",
       "      <td>27000.00000</td>\n",
       "      <td>Ukraine</td>\n",
       "      <td>Master's degree</td>\n",
       "      <td>Employed full-time</td>\n",
       "      <td>7.0</td>\n",
       "      <td>100 to 499 employees</td>\n",
       "      <td>Computer science</td>\n",
       "      <td>5.0</td>\n",
       "      <td>0</td>\n",
       "      <td>1</td>\n",
       "      <td>NaN</td>\n",
       "      <td>NaN</td>\n",
       "    </tr>\n",
       "  </tbody>\n",
       "</table>\n",
       "</div>"
      ],
      "text/plain": [
       "   ID  Year                   Hobbyist  ConvertedComp         Country  \\\n",
       "0   0  2017                  Yes, both    43750.00000  United Kingdom   \n",
       "1   1  2017  Yes, I program as a hobby    51282.05128         Denmark   \n",
       "2   2  2017                         No    25000.00000          Israel   \n",
       "3   3  2017  Yes, I program as a hobby   100000.00000   United States   \n",
       "4   4  2017                  Yes, both    27000.00000         Ukraine   \n",
       "\n",
       "                                             EdLevel          Employment  \\\n",
       "0                                  Bachelor's degree  Employed full-time   \n",
       "1  Some college/university study without earning ...  Employed part-time   \n",
       "2  Some college/university study without earning ...  Employed full-time   \n",
       "3  Some college/university study without earning ...  Employed full-time   \n",
       "4                                    Master's degree  Employed full-time   \n",
       "\n",
       "   JobSat                   OrgSize    UndergradMajor  YearsCodePro  \\\n",
       "0     4.0          2 to 9 employees  Computer science           2.0   \n",
       "1    10.0      100 to 499 employees  Computer science           3.0   \n",
       "2     6.0  5,000 to 9,999 employees  Computer science           4.0   \n",
       "3     5.0        20 to 99 employees  Computer science          15.0   \n",
       "4     7.0      100 to 499 employees  Computer science           5.0   \n",
       "\n",
       "   DS_or_MLS  DBA  DA_or_BA  SE  \n",
       "0          1    1       NaN NaN  \n",
       "1          1    0       NaN NaN  \n",
       "2          1    0       NaN NaN  \n",
       "3          0    1       NaN NaN  \n",
       "4          0    1       NaN NaN  "
      ]
     },
     "execution_count": 98,
     "metadata": {},
     "output_type": "execute_result"
    }
   ],
   "source": [
    "df2.head()"
   ]
  },
  {
   "cell_type": "markdown",
   "metadata": {},
   "source": [
    "#### 4.2.1. Modelo conceitual"
   ]
  },
  {
   "cell_type": "markdown",
   "metadata": {},
   "source": [
    "<img src=\"modelo_conceitual_ds2.png\" />"
   ]
  },
  {
   "cell_type": "markdown",
   "metadata": {},
   "source": [
    "#### 4.2.2. Criando e Populando as Tabelas do Dataset 2\n"
   ]
  },
  {
   "cell_type": "code",
   "execution_count": 99,
   "metadata": {},
   "outputs": [],
   "source": [
    "profession = ['ID', 'Hobbyist','ConvertedComp','DS_or_MLS', 'DBA', 'DA_or_BA', 'SE']\n",
    "jobsat = ['ID', 'Year','Country','EdLevel','Employment', 'JobSat', 'OrgSize']\n",
    "individual = ['ID','UndergradMajor', 'YearsCodePro']"
   ]
  },
  {
   "cell_type": "code",
   "execution_count": 100,
   "metadata": {},
   "outputs": [],
   "source": [
    "df2_profession = df2.filter(items=profession)\n",
    "df2_jobsat = df2.filter(items=jobsat)\n",
    "df2_individual = df2.filter(items=individual)"
   ]
  },
  {
   "cell_type": "code",
   "execution_count": 101,
   "metadata": {},
   "outputs": [],
   "source": [
    "df2_profession.to_sql('profession', con=engine)\n",
    "df2_jobsat.to_sql('jobsat', con=engine)\n",
    "df2_individual.to_sql('individual', con=engine)"
   ]
  },
  {
   "cell_type": "markdown",
   "metadata": {},
   "source": [
    "### 4.3. QUESTÕES\n"
   ]
  },
  {
   "cell_type": "markdown",
   "metadata": {},
   "source": [
    "#### QUESTÃO 1 - QUAL A MÉDIA DE ANOS DE EXPERIÊNCIA COM CÓDIGO DE UM CIENTISTA DE DADOS?"
   ]
  },
  {
   "cell_type": "code",
   "execution_count": 102,
   "metadata": {},
   "outputs": [
    {
     "name": "stdout",
     "output_type": "stream",
     "text": [
      "A média de experiência com código em anos entre os cientistas de dados é: 7.72\n"
     ]
    }
   ],
   "source": [
    "q1 = engine.execute(\"SELECT avg(i.YearsCodePro) \\\n",
    "                    FROM individual i \\\n",
    "                    JOIN profession p ON i.ID = p.ID\\\n",
    "                    WHERE p.DS_or_MLS == 1\").fetchall()\n",
    "\n",
    "q1_media = round(q1[0][0], 2) \n",
    "print(f'A média de experiência com código em anos entre os cientistas de dados é: {q1_media}')"
   ]
  },
  {
   "cell_type": "markdown",
   "metadata": {},
   "source": [
    "#### QUESTÃO 2 - QUAL A MÉDIA DE SATISFAÇÃO NO TRABALHO AO LONGO DOS ANOS?"
   ]
  },
  {
   "cell_type": "code",
   "execution_count": 103,
   "metadata": {
    "scrolled": false
   },
   "outputs": [
    {
     "data": {
      "text/html": [
       "<div>\n",
       "<style scoped>\n",
       "    .dataframe tbody tr th:only-of-type {\n",
       "        vertical-align: middle;\n",
       "    }\n",
       "\n",
       "    .dataframe tbody tr th {\n",
       "        vertical-align: top;\n",
       "    }\n",
       "\n",
       "    .dataframe thead th {\n",
       "        text-align: right;\n",
       "    }\n",
       "</style>\n",
       "<table border=\"1\" class=\"dataframe\">\n",
       "  <thead>\n",
       "    <tr style=\"text-align: right;\">\n",
       "      <th></th>\n",
       "      <th>0</th>\n",
       "      <th>1</th>\n",
       "    </tr>\n",
       "  </thead>\n",
       "  <tbody>\n",
       "    <tr>\n",
       "      <th>0</th>\n",
       "      <td>2017</td>\n",
       "      <td>6.973417</td>\n",
       "    </tr>\n",
       "    <tr>\n",
       "      <th>1</th>\n",
       "      <td>2018</td>\n",
       "      <td>6.236543</td>\n",
       "    </tr>\n",
       "    <tr>\n",
       "      <th>2</th>\n",
       "      <td>2019</td>\n",
       "      <td>5.966675</td>\n",
       "    </tr>\n",
       "    <tr>\n",
       "      <th>3</th>\n",
       "      <td>2020</td>\n",
       "      <td>5.942452</td>\n",
       "    </tr>\n",
       "  </tbody>\n",
       "</table>\n",
       "</div>"
      ],
      "text/plain": [
       "      0         1\n",
       "0  2017  6.973417\n",
       "1  2018  6.236543\n",
       "2  2019  5.966675\n",
       "3  2020  5.942452"
      ]
     },
     "execution_count": 103,
     "metadata": {},
     "output_type": "execute_result"
    }
   ],
   "source": [
    "q2 = engine.execute(\"SELECT Year, avg(JobSat) FROM jobsat GROUP BY Year\")\n",
    "pd.DataFrame(q2)  "
   ]
  },
  {
   "cell_type": "markdown",
   "metadata": {},
   "source": [
    "#### QUESTÃO 3 - QUANTOS PROFISSIONAIS SÃO ESPECIFICAMENTE CIENTISTAS DE DADOS? (dataset 2)"
   ]
  },
  {
   "cell_type": "code",
   "execution_count": 104,
   "metadata": {},
   "outputs": [
    {
     "name": "stdout",
     "output_type": "stream",
     "text": [
      "Nº de cientistas de dados: 10808\n"
     ]
    }
   ],
   "source": [
    "q3 = engine.execute(\"SELECT count(DS_or_MLS) FROM profession WHERE DS_or_MLS = 1 \").fetchall()\n",
    "q3\n",
    "\n",
    "cdd = q3[0][0]\n",
    "print(f'Nº de cientistas de dados: {cdd}')"
   ]
  },
  {
   "cell_type": "markdown",
   "metadata": {},
   "source": [
    "#### QUESTÃO 4 - QUAL A RELAÇÃO ENTRE ÍNDICE DE DESENVOLVIMENTO DA CIDADE E CANDIDATOS QUE REALMENTE QUEREM TRABALHAR NA EMPRESA?"
   ]
  },
  {
   "cell_type": "code",
   "execution_count": 105,
   "metadata": {},
   "outputs": [],
   "source": [
    "q4 = engine.execute(\"SELECT p.target, avg(c.city_development_index) FROM city c \\\n",
    "                    JOIN person p ON c.enrollee_id = p.enrollee_id GROUP BY p.target\")"
   ]
  },
  {
   "cell_type": "code",
   "execution_count": 106,
   "metadata": {},
   "outputs": [
    {
     "data": {
      "text/html": [
       "<div>\n",
       "<style scoped>\n",
       "    .dataframe tbody tr th:only-of-type {\n",
       "        vertical-align: middle;\n",
       "    }\n",
       "\n",
       "    .dataframe tbody tr th {\n",
       "        vertical-align: top;\n",
       "    }\n",
       "\n",
       "    .dataframe thead th {\n",
       "        text-align: right;\n",
       "    }\n",
       "</style>\n",
       "<table border=\"1\" class=\"dataframe\">\n",
       "  <thead>\n",
       "    <tr style=\"text-align: right;\">\n",
       "      <th></th>\n",
       "      <th>0</th>\n",
       "      <th>1</th>\n",
       "    </tr>\n",
       "  </thead>\n",
       "  <tbody>\n",
       "    <tr>\n",
       "      <th>0</th>\n",
       "      <td>0.0</td>\n",
       "      <td>0.853139</td>\n",
       "    </tr>\n",
       "    <tr>\n",
       "      <th>1</th>\n",
       "      <td>1.0</td>\n",
       "      <td>0.755719</td>\n",
       "    </tr>\n",
       "  </tbody>\n",
       "</table>\n",
       "</div>"
      ],
      "text/plain": [
       "     0         1\n",
       "0  0.0  0.853139\n",
       "1  1.0  0.755719"
      ]
     },
     "execution_count": 106,
     "metadata": {},
     "output_type": "execute_result"
    }
   ],
   "source": [
    "pd.DataFrame(q4)"
   ]
  },
  {
   "cell_type": "markdown",
   "metadata": {},
   "source": [
    "#### QUESTÃO 5 - QUAL O TIPO  MAIS RECORRENTE DAS ORGANIZAÇÕES ATUAIS DO CANDIDATOS QUE REALMENTE QUEREM TRABALHAR NA EMPRESA? (dataset 1)"
   ]
  },
  {
   "cell_type": "code",
   "execution_count": 107,
   "metadata": {
    "scrolled": false
   },
   "outputs": [
    {
     "data": {
      "text/html": [
       "<div>\n",
       "<style scoped>\n",
       "    .dataframe tbody tr th:only-of-type {\n",
       "        vertical-align: middle;\n",
       "    }\n",
       "\n",
       "    .dataframe tbody tr th {\n",
       "        vertical-align: top;\n",
       "    }\n",
       "\n",
       "    .dataframe thead th {\n",
       "        text-align: right;\n",
       "    }\n",
       "</style>\n",
       "<table border=\"1\" class=\"dataframe\">\n",
       "  <thead>\n",
       "    <tr style=\"text-align: right;\">\n",
       "      <th></th>\n",
       "      <th>0</th>\n",
       "      <th>1</th>\n",
       "    </tr>\n",
       "  </thead>\n",
       "  <tbody>\n",
       "    <tr>\n",
       "      <th>0</th>\n",
       "      <td>Early Stage Startup</td>\n",
       "      <td>142</td>\n",
       "    </tr>\n",
       "    <tr>\n",
       "      <th>1</th>\n",
       "      <td>Funded Startup</td>\n",
       "      <td>140</td>\n",
       "    </tr>\n",
       "    <tr>\n",
       "      <th>2</th>\n",
       "      <td>NGO</td>\n",
       "      <td>97</td>\n",
       "    </tr>\n",
       "    <tr>\n",
       "      <th>3</th>\n",
       "      <td>Other</td>\n",
       "      <td>29</td>\n",
       "    </tr>\n",
       "    <tr>\n",
       "      <th>4</th>\n",
       "      <td>Public Sector</td>\n",
       "      <td>210</td>\n",
       "    </tr>\n",
       "    <tr>\n",
       "      <th>5</th>\n",
       "      <td>Pvt Ltd</td>\n",
       "      <td>1775</td>\n",
       "    </tr>\n",
       "  </tbody>\n",
       "</table>\n",
       "</div>"
      ],
      "text/plain": [
       "                     0     1\n",
       "0  Early Stage Startup   142\n",
       "1       Funded Startup   140\n",
       "2                  NGO    97\n",
       "3                Other    29\n",
       "4        Public Sector   210\n",
       "5              Pvt Ltd  1775"
      ]
     },
     "execution_count": 107,
     "metadata": {},
     "output_type": "execute_result"
    }
   ],
   "source": [
    "q5 = engine.execute(\"SELECT e.company_type, count(e.company_type)\\\n",
    "                    FROM experience e\\\n",
    "                    JOIN person p ON e.enrollee_id = p.enrollee_id\\\n",
    "                    WHERE e.company_type <> 'None' AND p.target = 1\\\n",
    "                    GROUP BY company_type\").fetchall()\n",
    "q5 = pd.DataFrame(q5)  \n",
    "q5"
   ]
  },
  {
   "cell_type": "code",
   "execution_count": 108,
   "metadata": {},
   "outputs": [
    {
     "data": {
      "image/png": "[encoded data removed]",
      "text/plain": [
       "<Figure size 432x288 with 1 Axes>"
      ]
     },
     "metadata": {
      "needs_background": "light"
     },
     "output_type": "display_data"
    }
   ],
   "source": [
    "compsq5 = q5[0]     # Pegando a primeira coluna do Dataframe para colocar no eixo Y do gráfico.\n",
    "valuesq5 = q5[1]    # Pegando a coluna com os valores para usar no gráfico.\n",
    "\n",
    "plt.barh(compsq5, valuesq5, color='BLUE')\n",
    "plt.show()\n"
   ]
  },
  {
   "cell_type": "markdown",
   "metadata": {},
   "source": [
    "#### QUESTÃO 6 - QUAL A PROPORÇÃO DE CANDIDATOS COM EXPERIÊNCIA RELEVANTE?"
   ]
  },
  {
   "cell_type": "code",
   "execution_count": 109,
   "metadata": {
    "scrolled": true
   },
   "outputs": [
    {
     "name": "stdout",
     "output_type": "stream",
     "text": [
      "Candidatos com experiência relevante: 13792 \n",
      "Candidatos com experiência não relevante: 5366\n"
     ]
    }
   ],
   "source": [
    "q6 = engine.execute(\"SELECT count(relevent_experience) FROM experience GROUP BY relevent_experience\").fetchall()\n",
    "q6\n",
    "\n",
    "rel_exp, no_rel_exp = q6[0][0], q6[1][0]\n",
    "\n",
    "print(f'Candidatos com experiência relevante: {rel_exp} \\nCandidatos com experiência não relevante: {no_rel_exp}')"
   ]
  },
  {
   "cell_type": "code",
   "execution_count": 110,
   "metadata": {},
   "outputs": [
    {
     "data": {
      "image/png": "[encoded data removed]",
      "text/plain": [
       "<Figure size 432x288 with 1 Axes>"
      ]
     },
     "metadata": {},
     "output_type": "display_data"
    }
   ],
   "source": [
    "dados = [c[0] for c in q6]   # tratando os dados para plotagem do gráfico.\n",
    "labels_list = ['Has relevent_experience', 'No relevent_experience']  # definindo a legenda dos dados.\n",
    "\n",
    "plt.axis('equal')\n",
    "plt.pie(dados, labels=labels_list, autopct='%1.1f%%')   #plotagem do gráfico em pizza.\n",
    "plt.show()"
   ]
  },
  {
   "cell_type": "markdown",
   "metadata": {},
   "source": [
    "#### QUESTÃO 7 - QUANTAS HORAS DE TREINAMENTO TÊM EM MÉDIA OS CANDIDATOS IDEAIS (TARGET = 1)? "
   ]
  },
  {
   "cell_type": "code",
   "execution_count": 111,
   "metadata": {
    "scrolled": true
   },
   "outputs": [
    {
     "name": "stdout",
     "output_type": "stream",
     "text": [
      "Média de horas de treinamento dos candidatos ideais: 63\n"
     ]
    }
   ],
   "source": [
    "q7 = engine.execute(\"SELECT avg(c.training_hours) \\\n",
    "                    FROM experience c \\\n",
    "                    JOIN person p ON c.enrollee_id = p.enrollee_id\\\n",
    "                    WHERE p.target == 1\").fetchall()\n",
    "\n",
    "med_ht = round(q7[0][0])\n",
    "\n",
    "print(f'Média de horas de treinamento dos candidatos ideais: {med_ht}')"
   ]
  },
  {
   "cell_type": "markdown",
   "metadata": {},
   "source": [
    "#### QUESTÃO 8 - QUAL A MÉDIA DE EXPERIÊNCIA DOS CANDIDATOS QUE REALMENTE QUEREM TRABALHAR NA EMPRESA?"
   ]
  },
  {
   "cell_type": "code",
   "execution_count": 112,
   "metadata": {},
   "outputs": [
    {
     "data": {
      "text/plain": [
       "<AxesSubplot:xlabel='count', ylabel='0'>"
      ]
     },
     "execution_count": 112,
     "metadata": {},
     "output_type": "execute_result"
    },
    {
     "data": {
      "image/png": "[encoded data removed]",
      "text/plain": [
       "<Figure size 432x288 with 1 Axes>"
      ]
     },
     "metadata": {
      "needs_background": "light"
     },
     "output_type": "display_data"
    }
   ],
   "source": [
    "q8 = engine.execute(\"SELECT e.experience \\\n",
    "                    FROM experience e \\\n",
    "                    JOIN person p ON e.enrollee_id = p.enrollee_id\\\n",
    "                    WHERE p.target == 1\").fetchall()\n",
    "\n",
    "q8 = pd.DataFrame(q8)  \n",
    "\n",
    "\n",
    "sns.countplot(y=q8[0].sort_values(), order=order)"
   ]
  },
  {
   "cell_type": "code",
   "execution_count": 113,
   "metadata": {
    "scrolled": true
   },
   "outputs": [
    {
     "name": "stdout",
     "output_type": "stream",
     "text": [
      "Média de experiência dos candidatos ideais: 6\n"
     ]
    }
   ],
   "source": [
    "q8_avg = engine.execute(\"SELECT avg(experience)\\\n",
    "                        FROM experience\").fetchall()\n",
    "\n",
    "med_exp = round(q8_avg[0][0])\n",
    "\n",
    "print(f'Média de experiência dos candidatos ideais: {med_exp}')"
   ]
  },
  {
   "cell_type": "markdown",
   "metadata": {},
   "source": [
    "#### QUESTÃO 9 - QUANTOS CANDIDATOS IDEAIS NÃO ESTUDAM EM TEMPO INTEGRAL?"
   ]
  },
  {
   "cell_type": "code",
   "execution_count": 114,
   "metadata": {
    "scrolled": true
   },
   "outputs": [
    {
     "data": {
      "text/html": [
       "<div>\n",
       "<style scoped>\n",
       "    .dataframe tbody tr th:only-of-type {\n",
       "        vertical-align: middle;\n",
       "    }\n",
       "\n",
       "    .dataframe tbody tr th {\n",
       "        vertical-align: top;\n",
       "    }\n",
       "\n",
       "    .dataframe thead th {\n",
       "        text-align: right;\n",
       "    }\n",
       "</style>\n",
       "<table border=\"1\" class=\"dataframe\">\n",
       "  <thead>\n",
       "    <tr style=\"text-align: right;\">\n",
       "      <th></th>\n",
       "      <th>0</th>\n",
       "      <th>1</th>\n",
       "    </tr>\n",
       "  </thead>\n",
       "  <tbody>\n",
       "    <tr>\n",
       "      <th>0</th>\n",
       "      <td>Part time course</td>\n",
       "      <td>302</td>\n",
       "    </tr>\n",
       "    <tr>\n",
       "      <th>1</th>\n",
       "      <td>no_enrollment</td>\n",
       "      <td>2921</td>\n",
       "    </tr>\n",
       "  </tbody>\n",
       "</table>\n",
       "</div>"
      ],
      "text/plain": [
       "                  0     1\n",
       "0  Part time course   302\n",
       "1     no_enrollment  2921"
      ]
     },
     "execution_count": 114,
     "metadata": {},
     "output_type": "execute_result"
    }
   ],
   "source": [
    "q9 = engine.execute(\"SELECT s.enrolled_university, COUNT(s.enrolled_university)\\\n",
    "                    FROM schooling s\\\n",
    "                    JOIN person p ON s.enrollee_id = p.enrollee_id\\\n",
    "                    WHERE p.target = 1 AND s.enrolled_university <> 'Full time course'\\\n",
    "                    GROUP BY s.enrolled_university\").fetchall()\n",
    "\n",
    "q9 = pd.DataFrame(q9) \n",
    "q9"
   ]
  },
  {
   "cell_type": "markdown",
   "metadata": {},
   "source": [
    "#### QUESTÃO 10 - QUANTOS CANDIDATOS SE DESTACAM NESTE PROCESSO SELETIVO?"
   ]
  },
  {
   "cell_type": "code",
   "execution_count": 115,
   "metadata": {},
   "outputs": [
    {
     "name": "stdout",
     "output_type": "stream",
     "text": [
      "Candidatos de destaque: 308\n"
     ]
    }
   ],
   "source": [
    "q10 = engine.execute(\"SELECT count(p.enrollee_id)\\\n",
    "                    FROM person p\\\n",
    "                    JOIN experience e, schooling s ON p.enrollee_id = e.enrollee_id\\\n",
    "                    AND p.enrollee_id = s.enrollee_id\\\n",
    "                    WHERE e.experience > 6\\\n",
    "                    AND e.training_hours > 63\\\n",
    "                    AND e.relevent_experience = 'Has relevent experience'\\\n",
    "                    AND s.enrolled_university <> 'Full time course' \\\n",
    "                    AND p.target = 1\\\n",
    "                    \").fetchall()\n",
    "q10\n",
    "\n",
    "destaque = q10[0][0]\n",
    "\n",
    "print(f'Candidatos de destaque: {destaque}')"
   ]
  }
 ],
 "metadata": {
  "kernelspec": {
   "display_name": "Python 3",
   "language": "python",
   "name": "python3"
  },
  "language_info": {
   "codemirror_mode": {
    "name": "ipython",
    "version": 3
   },
   "file_extension": ".py",
   "mimetype": "text/x-python",
   "name": "python",
   "nbconvert_exporter": "python",
   "pygments_lexer": "ipython3",
   "version": "3.7.3"
  }
 },
 "nbformat": 4,
 "nbformat_minor": 4
}
